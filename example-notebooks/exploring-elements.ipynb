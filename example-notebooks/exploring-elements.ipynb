{
  "cells": [
    {
      "cell_type": "code",
      "source": [
        "from vdom.helpers import *"
      ],
      "outputs": [],
      "execution_count": 3,
      "metadata": {
        "collapsed": false,
        "outputHidden": false,
        "inputHidden": false
      }
    },
    {
      "cell_type": "markdown",
      "source": [
        "You can put video within your notebook using `%%html`, writing literal strings or with `IPython.display.HTML`:"
      ],
      "metadata": {
        "collapsed": false,
        "outputHidden": false,
        "inputHidden": false
      }
    },
    {
      "cell_type": "code",
      "source": [
        "%%html\n",
        "\n",
        "<video width=\"480\" controls\n",
        "  poster=\"https://archive.org/download/WebmVp8Vorbis/webmvp8.gif\" >\n",
        "  <source\n",
        "    src=\"https://archive.org/download/WebmVp8Vorbis/webmvp8.webm\"\n",
        "    type=\"video/webm\">\n",
        "  <source\n",
        "    src=\"https://archive.org/download/WebmVp8Vorbis/webmvp8_512kb.mp4\"\n",
        "    type=\"video/mp4\">\n",
        "  <source\n",
        "    src=\"https://archive.org/download/WebmVp8Vorbis/webmvp8.ogv\"\n",
        "    type=\"video/ogg\">\n",
        "  Your browser doesn't support HTML5 video tag.\n",
        "</video>"
      ],
      "outputs": [
        {
          "output_type": "display_data",
          "data": {
            "text/plain": [
              "<IPython.core.display.HTML object>"
            ],
            "text/html": [
              "\n",
              "<video width=\"480\" controls\n",
              "  poster=\"https://archive.org/download/WebmVp8Vorbis/webmvp8.gif\" >\n",
              "  <source\n",
              "    src=\"https://archive.org/download/WebmVp8Vorbis/webmvp8.webm\"\n",
              "    type=\"video/webm\">\n",
              "  <source\n",
              "    src=\"https://archive.org/download/WebmVp8Vorbis/webmvp8_512kb.mp4\"\n",
              "    type=\"video/mp4\">\n",
              "  <source\n",
              "    src=\"https://archive.org/download/WebmVp8Vorbis/webmvp8.ogv\"\n",
              "    type=\"video/ogg\">\n",
              "  Your browser doesn't support HTML5 video tag.\n",
              "</video>"
            ]
          },
          "metadata": {}
        }
      ],
      "execution_count": 4,
      "metadata": {
        "collapsed": false,
        "outputHidden": false,
        "inputHidden": false
      }
    },
    {
      "cell_type": "markdown",
      "source": [
        "With vdom, we can create it declaratively"
      ],
      "metadata": {}
    },
    {
      "cell_type": "code",
      "source": [
        "vid = video(source(\n",
        "    src=\"https://archive.org/download/WebmVp8Vorbis/webmvp8.webm\",\n",
        "    type=\"video/webm\"),\n",
        "  source(\n",
        "    src=\"https://archive.org/download/WebmVp8Vorbis/webmvp8_512kb.mp4\",\n",
        "    type=\"video/mp4\"),\n",
        "  source(\n",
        "    src=\"https://archive.org/download/WebmVp8Vorbis/webmvp8.ogv\",\n",
        "    type=\"video/ogg\"),\n",
        "  \"Your browser doesn't support HTML5 video tag.\", width=\"480\", controls=True, poster=\"https://archive.org/download/WebmVp8Vorbis/webmvp8.gif\")"
      ],
      "outputs": [],
      "execution_count": 5,
      "metadata": {
        "collapsed": false,
        "outputHidden": false,
        "inputHidden": false
      }
    },
    {
      "cell_type": "markdown",
      "source": [
        "and display it when we want"
      ],
      "metadata": {}
    },
    {
      "cell_type": "code",
      "source": [
        "vid"
      ],
      "outputs": [
        {
          "output_type": "execute_result",
          "execution_count": 6,
          "data": {
            "application/vdom.v1+json": {
              "tagName": "video",
              "attributes": {
                "width": "480",
                "controls": true,
                "poster": "https://archive.org/download/WebmVp8Vorbis/webmvp8.gif"
              },
              "children": [
                {
                  "tagName": "source",
                  "attributes": {
                    "src": "https://archive.org/download/WebmVp8Vorbis/webmvp8.webm",
                    "type": "video/webm"
                  },
                  "children": null
                },
                {
                  "tagName": "source",
                  "attributes": {
                    "src": "https://archive.org/download/WebmVp8Vorbis/webmvp8_512kb.mp4",
                    "type": "video/mp4"
                  },
                  "children": null
                },
                {
                  "tagName": "source",
                  "attributes": {
                    "src": "https://archive.org/download/WebmVp8Vorbis/webmvp8.ogv",
                    "type": "video/ogg"
                  },
                  "children": null
                },
                "Your browser doesn't support HTML5 video tag."
              ]
            },
            "text/plain": [
              "<video />"
            ]
          },
          "metadata": {}
        }
      ],
      "execution_count": 6,
      "metadata": {
        "collapsed": false,
        "outputHidden": false,
        "inputHidden": false
      }
    },
    {
      "cell_type": "code",
      "source": [
        "hand = display(vid, display_id=True)"
      ],
      "outputs": [
        {
          "output_type": "display_data",
          "data": {
            "application/vdom.v1+json": {
              "tagName": "video",
              "attributes": {
                "width": "480",
                "controls": false,
                "poster": "https://archive.org/download/WebmVp8Vorbis/webmvp8.gif",
                "autoplay": false
              },
              "children": [
                {
                  "tagName": "source",
                  "attributes": {
                    "src": "https://archive.org/download/WebmVp8Vorbis/webmvp8.webm",
                    "type": "video/webm"
                  },
                  "children": null
                },
                {
                  "tagName": "source",
                  "attributes": {
                    "src": "https://archive.org/download/WebmVp8Vorbis/webmvp8_512kb.mp4",
                    "type": "video/mp4"
                  },
                  "children": null
                },
                {
                  "tagName": "source",
                  "attributes": {
                    "src": "https://archive.org/download/WebmVp8Vorbis/webmvp8.ogv",
                    "type": "video/ogg"
                  },
                  "children": null
                },
                "Your browser doesn't support HTML5 video tag."
              ]
            },
            "text/plain": [
              "<video />"
            ]
          },
          "metadata": {}
        }
      ],
      "execution_count": 14,
      "metadata": {
        "collapsed": false,
        "outputHidden": false,
        "inputHidden": false
      }
    },
    {
      "cell_type": "markdown",
      "source": [
        "Since you can change attributes of the element directly with `display` updates, we can turn controls off"
      ],
      "metadata": {}
    },
    {
      "cell_type": "code",
      "source": [
        "attrs = vid.attributes.copy()\n",
        "attrs['controls'] = False\n",
        "attrs['autoplay'] = False\n",
        "hand.update(video(vid.children, **attrs))"
      ],
      "outputs": [],
      "execution_count": 16,
      "metadata": {
        "collapsed": false,
        "outputHidden": false,
        "inputHidden": false
      }
    },
    {
      "cell_type": "markdown",
      "source": [
        "There are many more elements available"
      ],
      "metadata": {}
    },
    {
      "cell_type": "code",
      "source": [
        "em('what')"
      ],
      "outputs": [
        {
          "output_type": "execute_result",
          "execution_count": 18,
          "data": {
            "application/vdom.v1+json": {
              "tagName": "em",
              "attributes": {},
              "children": "what"
            },
            "text/plain": [
              "<em />"
            ]
          },
          "metadata": {}
        }
      ],
      "execution_count": 18,
      "metadata": {
        "collapsed": false,
        "outputHidden": false,
        "inputHidden": false
      }
    },
    {
      "cell_type": "code",
      "source": [
        "strong('bad')"
      ],
      "outputs": [
        {
          "output_type": "execute_result",
          "execution_count": 19,
          "data": {
            "application/vdom.v1+json": {
              "tagName": "strong",
              "attributes": {},
              "children": "bad"
            },
            "text/plain": [
              "<strong />"
            ]
          },
          "metadata": {}
        }
      ],
      "execution_count": 19,
      "metadata": {
        "collapsed": false,
        "outputHidden": false,
        "inputHidden": false
      }
    },
    {
      "cell_type": "code",
      "source": [
        "abbr(\"lol\", title=\"laugh out loud\")"
      ],
      "outputs": [
        {
          "output_type": "execute_result",
          "execution_count": 20,
          "data": {
            "application/vdom.v1+json": {
              "tagName": "abbr",
              "attributes": {
                "title": "laugh out loud"
              },
              "children": "lol"
            },
            "text/plain": [
              "<abbr />"
            ]
          },
          "metadata": {}
        }
      ],
      "execution_count": 20,
      "metadata": {
        "collapsed": false,
        "outputHidden": false,
        "inputHidden": false
      }
    },
    {
      "cell_type": "code",
      "source": [
        "time(\"10/05/13 at 10 PM\", datetime=\"2013-10-05 22:00\")"
      ],
      "outputs": [
        {
          "output_type": "execute_result",
          "execution_count": 48,
          "data": {
            "application/vdom.v1+json": {
              "tagName": "time",
              "attributes": {
                "datetime": "2013-10-05 22:00"
              },
              "children": "10/05/13 at 10 PM"
            },
            "text/plain": [
              "<time />"
            ]
          },
          "metadata": {}
        }
      ],
      "execution_count": 48,
      "metadata": {
        "collapsed": false,
        "outputHidden": false,
        "inputHidden": false
      }
    },
    {
      "cell_type": "code",
      "source": [
        "p(\n",
        "    \"pay attention, because you'll find out that you can\",\n",
        "    mark(' highlight', style={'backgroundColor': 'blue', 'color': 'white'}),\n",
        "    span(\" to \", style={ 'backgroundColor': 'yellow' }),\n",
        "    \" your heart's content\"\n",
        " )"
      ],
      "outputs": [
        {
          "output_type": "execute_result",
          "execution_count": 21,
          "data": {
            "application/vdom.v1+json": {
              "tagName": "p",
              "attributes": {},
              "children": [
                "pay attention, because you'll find out that you can",
                {
                  "tagName": "mark",
                  "attributes": {
                    "style": {
                      "backgroundColor": "blue",
                      "color": "white"
                    }
                  },
                  "children": " highlight"
                },
                {
                  "tagName": "span",
                  "attributes": {
                    "style": {
                      "backgroundColor": "yellow"
                    }
                  },
                  "children": " to "
                },
                " your heart's content"
              ]
            },
            "text/plain": [
              "<p />"
            ]
          },
          "metadata": {}
        }
      ],
      "execution_count": 21,
      "metadata": {
        "collapsed": false,
        "outputHidden": false,
        "inputHidden": false
      }
    },
    {
      "cell_type": "code",
      "source": [
        "inp = input_(type='color', value=\"#eeeeee\")\n",
        "hand = display(inp, display_id=True)"
      ],
      "outputs": [
        {
          "output_type": "display_data",
          "data": {
            "application/vdom.v1+json": {
              "tagName": "input",
              "attributes": {
                "type": "color",
                "value": "#DD55FF"
              },
              "children": null
            },
            "text/plain": [
              "<input />"
            ]
          },
          "metadata": {}
        }
      ],
      "execution_count": 22,
      "metadata": {
        "collapsed": false,
        "outputHidden": false,
        "inputHidden": false
      }
    },
    {
      "cell_type": "code",
      "source": [
        "# Change the value directly from Python\n",
        "inp.attributes['value'] = \"#DD55FF\"\n",
        "# Then update the version in your notebook\n",
        "hand.update(inp)"
      ],
      "outputs": [],
      "execution_count": 24,
      "metadata": {
        "collapsed": false,
        "outputHidden": false,
        "inputHidden": false
      }
    },
    {
      "cell_type": "code",
      "source": [],
      "outputs": [],
      "execution_count": null,
      "metadata": {
        "collapsed": false,
        "outputHidden": false,
        "inputHidden": false
      }
    },
    {
      "cell_type": "code",
      "source": [],
      "outputs": [],
      "execution_count": null,
      "metadata": {
        "collapsed": false,
        "outputHidden": false,
        "inputHidden": false
      }
    }
  ],
  "metadata": {
    "kernelspec": {
      "name": "python",
      "language": "python",
      "display_name": "Python 3"
    },
    "kernel_info": {
      "name": "python"
    },
    "language_info": {
      "name": "python",
      "version": "3.6.4",
      "mimetype": "text/x-python",
      "codemirror_mode": {
        "name": "ipython",
        "version": 3
      },
      "pygments_lexer": "ipython3",
      "nbconvert_exporter": "python",
      "file_extension": ".py"
    },
    "nteract": {
      "version": "0.7.1"
    }
  },
  "nbformat": 4,
  "nbformat_minor": 4
}