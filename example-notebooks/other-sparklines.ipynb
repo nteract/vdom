{
  "cells": [
    {
      "cell_type": "code",
      "source": [
        "import random, time\n",
        "from vdom.helpers import div"
      ],
      "outputs": [],
      "execution_count": 1,
      "metadata": {
        "collapsed": false,
        "outputHidden": false,
        "inputHidden": false
      }
    },
    {
      "cell_type": "code",
      "source": [
        "def upsy(value, min=0, max=1, low=None, optimum=None, high=None):\n",
        "    if(low is None):\n",
        "        low = min\n",
        "    if(high is None):\n",
        "        high = max\n",
        "    if(optimum is None):\n",
        "        optimum = (max - min)/2.\n",
        "    \n",
        "    if(value < min):\n",
        "        value = min\n",
        "    if(value > max):\n",
        "        value = max\n",
        "      \n",
        "    color = 'green'\n",
        "    if(value < low):\n",
        "        color = 'SeaGreen'\n",
        "    elif(value > high):\n",
        "        color = 'SpringGreen'\n",
        "    else:\n",
        "        color = 'LimeGreen'\n",
        "    \n",
        "    size = int((value / float(max)) * 30)\n",
        "    \n",
        "    return div(\n",
        "        style={\n",
        "            'height': '{:d}px'.format(size),\n",
        "            'display': 'inline-block',\n",
        "            'width': '10px',\n",
        "            # 'backgroundColor': color,\n",
        "            'borderTop': '3px solid {}'.format(color),\n",
        "        }\n",
        "    )\n",
        "\n",
        "def sparklines(lst, min=0, max=1, low=None, optimum=None, high=None):\n",
        "    '''lst is expected to be a list of integers (or floats)'''\n",
        "    return div([\n",
        "        upsy(i, min, max, low, optimum, high) for i in lst\n",
        "    ])"
      ],
      "outputs": [],
      "execution_count": 2,
      "metadata": {
        "collapsed": false,
        "outputHidden": false,
        "inputHidden": false
      }
    },
    {
      "cell_type": "code",
      "source": [
        "sparklines(\n",
        "    [random.randint(1, 50) for i in range(20)],\n",
        "    max=50, low=10, high=40\n",
        ")"
      ],
      "outputs": [
        {
          "output_type": "execute_result",
          "execution_count": 3,
          "data": {
            "application/vdom.v1+json": {
              "tagName": "div",
              "attributes": {},
              "children": [
                {
                  "tagName": "div",
                  "attributes": {
                    "style": {
                      "height": "19px",
                      "display": "inline-block",
                      "width": "10px",
                      "borderTop": "3px solid LimeGreen"
                    }
                  },
                  "children": null
                },
                {
                  "tagName": "div",
                  "attributes": {
                    "style": {
                      "height": "17px",
                      "display": "inline-block",
                      "width": "10px",
                      "borderTop": "3px solid LimeGreen"
                    }
                  },
                  "children": null
                },
                {
                  "tagName": "div",
                  "attributes": {
                    "style": {
                      "height": "21px",
                      "display": "inline-block",
                      "width": "10px",
                      "borderTop": "3px solid LimeGreen"
                    }
                  },
                  "children": null
                },
                {
                  "tagName": "div",
                  "attributes": {
                    "style": {
                      "height": "13px",
                      "display": "inline-block",
                      "width": "10px",
                      "borderTop": "3px solid LimeGreen"
                    }
                  },
                  "children": null
                },
                {
                  "tagName": "div",
                  "attributes": {
                    "style": {
                      "height": "30px",
                      "display": "inline-block",
                      "width": "10px",
                      "borderTop": "3px solid SpringGreen"
                    }
                  },
                  "children": null
                },
                {
                  "tagName": "div",
                  "attributes": {
                    "style": {
                      "height": "4px",
                      "display": "inline-block",
                      "width": "10px",
                      "borderTop": "3px solid SeaGreen"
                    }
                  },
                  "children": null
                },
                {
                  "tagName": "div",
                  "attributes": {
                    "style": {
                      "height": "7px",
                      "display": "inline-block",
                      "width": "10px",
                      "borderTop": "3px solid LimeGreen"
                    }
                  },
                  "children": null
                },
                {
                  "tagName": "div",
                  "attributes": {
                    "style": {
                      "height": "27px",
                      "display": "inline-block",
                      "width": "10px",
                      "borderTop": "3px solid SpringGreen"
                    }
                  },
                  "children": null
                },
                {
                  "tagName": "div",
                  "attributes": {
                    "style": {
                      "height": "19px",
                      "display": "inline-block",
                      "width": "10px",
                      "borderTop": "3px solid LimeGreen"
                    }
                  },
                  "children": null
                },
                {
                  "tagName": "div",
                  "attributes": {
                    "style": {
                      "height": "15px",
                      "display": "inline-block",
                      "width": "10px",
                      "borderTop": "3px solid LimeGreen"
                    }
                  },
                  "children": null
                },
                {
                  "tagName": "div",
                  "attributes": {
                    "style": {
                      "height": "27px",
                      "display": "inline-block",
                      "width": "10px",
                      "borderTop": "3px solid SpringGreen"
                    }
                  },
                  "children": null
                },
                {
                  "tagName": "div",
                  "attributes": {
                    "style": {
                      "height": "22px",
                      "display": "inline-block",
                      "width": "10px",
                      "borderTop": "3px solid LimeGreen"
                    }
                  },
                  "children": null
                },
                {
                  "tagName": "div",
                  "attributes": {
                    "style": {
                      "height": "19px",
                      "display": "inline-block",
                      "width": "10px",
                      "borderTop": "3px solid LimeGreen"
                    }
                  },
                  "children": null
                },
                {
                  "tagName": "div",
                  "attributes": {
                    "style": {
                      "height": "13px",
                      "display": "inline-block",
                      "width": "10px",
                      "borderTop": "3px solid LimeGreen"
                    }
                  },
                  "children": null
                },
                {
                  "tagName": "div",
                  "attributes": {
                    "style": {
                      "height": "7px",
                      "display": "inline-block",
                      "width": "10px",
                      "borderTop": "3px solid LimeGreen"
                    }
                  },
                  "children": null
                },
                {
                  "tagName": "div",
                  "attributes": {
                    "style": {
                      "height": "14px",
                      "display": "inline-block",
                      "width": "10px",
                      "borderTop": "3px solid LimeGreen"
                    }
                  },
                  "children": null
                },
                {
                  "tagName": "div",
                  "attributes": {
                    "style": {
                      "height": "10px",
                      "display": "inline-block",
                      "width": "10px",
                      "borderTop": "3px solid LimeGreen"
                    }
                  },
                  "children": null
                },
                {
                  "tagName": "div",
                  "attributes": {
                    "style": {
                      "height": "1px",
                      "display": "inline-block",
                      "width": "10px",
                      "borderTop": "3px solid SeaGreen"
                    }
                  },
                  "children": null
                },
                {
                  "tagName": "div",
                  "attributes": {
                    "style": {
                      "height": "25px",
                      "display": "inline-block",
                      "width": "10px",
                      "borderTop": "3px solid SpringGreen"
                    }
                  },
                  "children": null
                },
                {
                  "tagName": "div",
                  "attributes": {
                    "style": {
                      "height": "18px",
                      "display": "inline-block",
                      "width": "10px",
                      "borderTop": "3px solid LimeGreen"
                    }
                  },
                  "children": null
                }
              ]
            },
            "text/plain": [
              "<div />"
            ]
          },
          "metadata": {}
        }
      ],
      "execution_count": 3,
      "metadata": {
        "collapsed": false,
        "outputHidden": false,
        "inputHidden": false
      }
    },
    {
      "cell_type": "code",
      "source": [
        "events = [random.randint(25, 35) for i in range(40)]\n",
        "\n",
        "handle = display(\n",
        "    sparklines(events, max=50, low=10, high=40, optimum=30),\n",
        "    display_id=True\n",
        ")\n",
        "\n",
        "for ii in range(200):\n",
        "    time.sleep(60/1000.)\n",
        "    events.pop(0)\n",
        "    \n",
        "    event = max(min(events[-1] + random.randint(-5, 5), 50), 0)\n",
        "    events.append(event)\n",
        "    handle.update(sparklines(events, max=50, low=10, high=40, optimum=30))"
      ],
      "outputs": [
        {
          "output_type": "display_data",
          "data": {
            "application/vdom.v1+json": {
              "tagName": "div",
              "attributes": {},
              "children": [
                {
                  "tagName": "div",
                  "attributes": {
                    "style": {
                      "height": "19px",
                      "display": "inline-block",
                      "width": "10px",
                      "borderTop": "3px solid LimeGreen"
                    }
                  },
                  "children": null
                },
                {
                  "tagName": "div",
                  "attributes": {
                    "style": {
                      "height": "21px",
                      "display": "inline-block",
                      "width": "10px",
                      "borderTop": "3px solid LimeGreen"
                    }
                  },
                  "children": null
                },
                {
                  "tagName": "div",
                  "attributes": {
                    "style": {
                      "height": "20px",
                      "display": "inline-block",
                      "width": "10px",
                      "borderTop": "3px solid LimeGreen"
                    }
                  },
                  "children": null
                },
                {
                  "tagName": "div",
                  "attributes": {
                    "style": {
                      "height": "19px",
                      "display": "inline-block",
                      "width": "10px",
                      "borderTop": "3px solid LimeGreen"
                    }
                  },
                  "children": null
                },
                {
                  "tagName": "div",
                  "attributes": {
                    "style": {
                      "height": "18px",
                      "display": "inline-block",
                      "width": "10px",
                      "borderTop": "3px solid LimeGreen"
                    }
                  },
                  "children": null
                },
                {
                  "tagName": "div",
                  "attributes": {
                    "style": {
                      "height": "15px",
                      "display": "inline-block",
                      "width": "10px",
                      "borderTop": "3px solid LimeGreen"
                    }
                  },
                  "children": null
                },
                {
                  "tagName": "div",
                  "attributes": {
                    "style": {
                      "height": "15px",
                      "display": "inline-block",
                      "width": "10px",
                      "borderTop": "3px solid LimeGreen"
                    }
                  },
                  "children": null
                },
                {
                  "tagName": "div",
                  "attributes": {
                    "style": {
                      "height": "16px",
                      "display": "inline-block",
                      "width": "10px",
                      "borderTop": "3px solid LimeGreen"
                    }
                  },
                  "children": null
                },
                {
                  "tagName": "div",
                  "attributes": {
                    "style": {
                      "height": "15px",
                      "display": "inline-block",
                      "width": "10px",
                      "borderTop": "3px solid LimeGreen"
                    }
                  },
                  "children": null
                },
                {
                  "tagName": "div",
                  "attributes": {
                    "style": {
                      "height": "18px",
                      "display": "inline-block",
                      "width": "10px",
                      "borderTop": "3px solid LimeGreen"
                    }
                  },
                  "children": null
                },
                {
                  "tagName": "div",
                  "attributes": {
                    "style": {
                      "height": "15px",
                      "display": "inline-block",
                      "width": "10px",
                      "borderTop": "3px solid LimeGreen"
                    }
                  },
                  "children": null
                },
                {
                  "tagName": "div",
                  "attributes": {
                    "style": {
                      "height": "12px",
                      "display": "inline-block",
                      "width": "10px",
                      "borderTop": "3px solid LimeGreen"
                    }
                  },
                  "children": null
                },
                {
                  "tagName": "div",
                  "attributes": {
                    "style": {
                      "height": "13px",
                      "display": "inline-block",
                      "width": "10px",
                      "borderTop": "3px solid LimeGreen"
                    }
                  },
                  "children": null
                },
                {
                  "tagName": "div",
                  "attributes": {
                    "style": {
                      "height": "13px",
                      "display": "inline-block",
                      "width": "10px",
                      "borderTop": "3px solid LimeGreen"
                    }
                  },
                  "children": null
                },
                {
                  "tagName": "div",
                  "attributes": {
                    "style": {
                      "height": "15px",
                      "display": "inline-block",
                      "width": "10px",
                      "borderTop": "3px solid LimeGreen"
                    }
                  },
                  "children": null
                },
                {
                  "tagName": "div",
                  "attributes": {
                    "style": {
                      "height": "15px",
                      "display": "inline-block",
                      "width": "10px",
                      "borderTop": "3px solid LimeGreen"
                    }
                  },
                  "children": null
                },
                {
                  "tagName": "div",
                  "attributes": {
                    "style": {
                      "height": "17px",
                      "display": "inline-block",
                      "width": "10px",
                      "borderTop": "3px solid LimeGreen"
                    }
                  },
                  "children": null
                },
                {
                  "tagName": "div",
                  "attributes": {
                    "style": {
                      "height": "18px",
                      "display": "inline-block",
                      "width": "10px",
                      "borderTop": "3px solid LimeGreen"
                    }
                  },
                  "children": null
                },
                {
                  "tagName": "div",
                  "attributes": {
                    "style": {
                      "height": "15px",
                      "display": "inline-block",
                      "width": "10px",
                      "borderTop": "3px solid LimeGreen"
                    }
                  },
                  "children": null
                },
                {
                  "tagName": "div",
                  "attributes": {
                    "style": {
                      "height": "17px",
                      "display": "inline-block",
                      "width": "10px",
                      "borderTop": "3px solid LimeGreen"
                    }
                  },
                  "children": null
                },
                {
                  "tagName": "div",
                  "attributes": {
                    "style": {
                      "height": "16px",
                      "display": "inline-block",
                      "width": "10px",
                      "borderTop": "3px solid LimeGreen"
                    }
                  },
                  "children": null
                },
                {
                  "tagName": "div",
                  "attributes": {
                    "style": {
                      "height": "17px",
                      "display": "inline-block",
                      "width": "10px",
                      "borderTop": "3px solid LimeGreen"
                    }
                  },
                  "children": null
                },
                {
                  "tagName": "div",
                  "attributes": {
                    "style": {
                      "height": "18px",
                      "display": "inline-block",
                      "width": "10px",
                      "borderTop": "3px solid LimeGreen"
                    }
                  },
                  "children": null
                },
                {
                  "tagName": "div",
                  "attributes": {
                    "style": {
                      "height": "16px",
                      "display": "inline-block",
                      "width": "10px",
                      "borderTop": "3px solid LimeGreen"
                    }
                  },
                  "children": null
                },
                {
                  "tagName": "div",
                  "attributes": {
                    "style": {
                      "height": "16px",
                      "display": "inline-block",
                      "width": "10px",
                      "borderTop": "3px solid LimeGreen"
                    }
                  },
                  "children": null
                },
                {
                  "tagName": "div",
                  "attributes": {
                    "style": {
                      "height": "15px",
                      "display": "inline-block",
                      "width": "10px",
                      "borderTop": "3px solid LimeGreen"
                    }
                  },
                  "children": null
                },
                {
                  "tagName": "div",
                  "attributes": {
                    "style": {
                      "height": "13px",
                      "display": "inline-block",
                      "width": "10px",
                      "borderTop": "3px solid LimeGreen"
                    }
                  },
                  "children": null
                },
                {
                  "tagName": "div",
                  "attributes": {
                    "style": {
                      "height": "10px",
                      "display": "inline-block",
                      "width": "10px",
                      "borderTop": "3px solid LimeGreen"
                    }
                  },
                  "children": null
                },
                {
                  "tagName": "div",
                  "attributes": {
                    "style": {
                      "height": "10px",
                      "display": "inline-block",
                      "width": "10px",
                      "borderTop": "3px solid LimeGreen"
                    }
                  },
                  "children": null
                },
                {
                  "tagName": "div",
                  "attributes": {
                    "style": {
                      "height": "9px",
                      "display": "inline-block",
                      "width": "10px",
                      "borderTop": "3px solid LimeGreen"
                    }
                  },
                  "children": null
                },
                {
                  "tagName": "div",
                  "attributes": {
                    "style": {
                      "height": "10px",
                      "display": "inline-block",
                      "width": "10px",
                      "borderTop": "3px solid LimeGreen"
                    }
                  },
                  "children": null
                },
                {
                  "tagName": "div",
                  "attributes": {
                    "style": {
                      "height": "12px",
                      "display": "inline-block",
                      "width": "10px",
                      "borderTop": "3px solid LimeGreen"
                    }
                  },
                  "children": null
                },
                {
                  "tagName": "div",
                  "attributes": {
                    "style": {
                      "height": "10px",
                      "display": "inline-block",
                      "width": "10px",
                      "borderTop": "3px solid LimeGreen"
                    }
                  },
                  "children": null
                },
                {
                  "tagName": "div",
                  "attributes": {
                    "style": {
                      "height": "10px",
                      "display": "inline-block",
                      "width": "10px",
                      "borderTop": "3px solid LimeGreen"
                    }
                  },
                  "children": null
                },
                {
                  "tagName": "div",
                  "attributes": {
                    "style": {
                      "height": "11px",
                      "display": "inline-block",
                      "width": "10px",
                      "borderTop": "3px solid LimeGreen"
                    }
                  },
                  "children": null
                },
                {
                  "tagName": "div",
                  "attributes": {
                    "style": {
                      "height": "13px",
                      "display": "inline-block",
                      "width": "10px",
                      "borderTop": "3px solid LimeGreen"
                    }
                  },
                  "children": null
                },
                {
                  "tagName": "div",
                  "attributes": {
                    "style": {
                      "height": "12px",
                      "display": "inline-block",
                      "width": "10px",
                      "borderTop": "3px solid LimeGreen"
                    }
                  },
                  "children": null
                },
                {
                  "tagName": "div",
                  "attributes": {
                    "style": {
                      "height": "13px",
                      "display": "inline-block",
                      "width": "10px",
                      "borderTop": "3px solid LimeGreen"
                    }
                  },
                  "children": null
                },
                {
                  "tagName": "div",
                  "attributes": {
                    "style": {
                      "height": "13px",
                      "display": "inline-block",
                      "width": "10px",
                      "borderTop": "3px solid LimeGreen"
                    }
                  },
                  "children": null
                },
                {
                  "tagName": "div",
                  "attributes": {
                    "style": {
                      "height": "16px",
                      "display": "inline-block",
                      "width": "10px",
                      "borderTop": "3px solid LimeGreen"
                    }
                  },
                  "children": null
                }
              ]
            },
            "text/plain": [
              "<div />"
            ]
          },
          "metadata": {}
        }
      ],
      "execution_count": 4,
      "metadata": {
        "collapsed": false,
        "outputHidden": false,
        "inputHidden": false
      }
    },
    {
      "cell_type": "code",
      "source": [],
      "outputs": [],
      "execution_count": null,
      "metadata": {
        "collapsed": false,
        "outputHidden": false,
        "inputHidden": false
      }
    }
  ],
  "metadata": {
    "kernelspec": {
      "name": "python3",
      "language": "python",
      "display_name": "Python 3"
    },
    "kernel_info": {
      "name": "python3"
    },
    "language_info": {
      "name": "python",
      "version": "3.6.4",
      "mimetype": "text/x-python",
      "codemirror_mode": {
        "name": "ipython",
        "version": 3
      },
      "pygments_lexer": "ipython3",
      "nbconvert_exporter": "python",
      "file_extension": ".py"
    },
    "nteract": {
      "version": "0.7.1"
    }
  },
  "nbformat": 4,
  "nbformat_minor": 4
}