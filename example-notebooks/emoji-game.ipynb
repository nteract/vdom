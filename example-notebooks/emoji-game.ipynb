{
  "cells": [
    {
      "cell_type": "code",
      "source": [
        "from vdom import VDOM, h1, div, p, b, createComponent\n",
        "# marquee is deprecated officially by browsers\n",
        "# we're going to create and use it anyway\n",
        "marquee = createComponent('marquee')"
      ],
      "outputs": [],
      "execution_count": 2,
      "metadata": {
        "collapsed": false,
        "outputHidden": false,
        "inputHidden": false
      }
    },
    {
      "cell_type": "code",
      "source": [
        "from collections import Counter\n",
        "\nwinners = Counter()"
      ],
      "outputs": [],
      "execution_count": 3,
      "metadata": {
        "collapsed": false,
        "outputHidden": false,
        "inputHidden": false
      }
    },
    {
      "cell_type": "code",
      "source": [
        "import secrets\n",
        "import time\n",
        "\n",
        "winner = \"\"\n",
        "\n",
        "# Each player should pick an emoji that you put into this array\n",
        "choices = [\"🥑\", \"🐱\", \"😻\"]\n",
        "\n",
        "game = display(VDOM(h1('GAMETIME')), display_id=\"game\")\n",
        "\n",
        "for ii in range(40):\n",
        "    winner = secrets.choice(choices)\n",
        "    game.display(\n",
        "        VDOM(\n",
        "            marquee(winner, style={ \"fontSize\" : '3em' })\n",
        "        ),\n",
        "        update=True\n",
        "    )\n",
        "    time.sleep(0.1)\n",
        "\n",
        "winners[winner] += 1\n",
        "    \n",
        "game.display(VDOM(\n",
        "    div(\n",
        "        [\n",
        "            h1('WINNER ' + winner, style={ \"fontSize\" : '3em' }),\n",
        "            list(map(lambda i: p(i + ': ' + str(winners[i])), winners))\n",
        "        ]\n",
        "    )\n",
        "), update=True)"
      ],
      "outputs": [
        {
          "output_type": "display_data",
          "data": {
            "application/vdom.v1+json": {
              "tagName": "div",
              "attributes": {},
              "children": [
                {
                  "tagName": "h1",
                  "attributes": {
                    "style": {
                      "fontSize": "3em"
                    }
                  },
                  "children": "WINNER 🐱"
                },
                [
                  {
                    "tagName": "p",
                    "attributes": {},
                    "children": "😻: 1"
                  },
                  {
                    "tagName": "p",
                    "attributes": {},
                    "children": "🐱: 1"
                  }
                ]
              ]
            },
            "text/plain": [
              "<vdom.core.VDOM at 0x110a86080>"
            ]
          },
          "metadata": {}
        }
      ],
      "execution_count": 5,
      "metadata": {
        "collapsed": false,
        "outputHidden": false,
        "inputHidden": false
      }
    }
  ],
  "metadata": {
    "kernelspec": {
      "name": "python3",
      "language": "python",
      "display_name": "Python 3"
    },
    "kernel_info": {
      "name": "python3"
    },
    "language_info": {
      "name": "python",
      "version": "3.6.4",
      "mimetype": "text/x-python",
      "codemirror_mode": {
        "name": "ipython",
        "version": 3
      },
      "pygments_lexer": "ipython3",
      "nbconvert_exporter": "python",
      "file_extension": ".py"
    },
    "nteract": {
      "version": "0.7.1"
    }
  },
  "nbformat": 4,
  "nbformat_minor": 4
}