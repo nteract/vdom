{
  "cells": [
    {
      "cell_type": "markdown",
      "source": [
        "# Let's make progress bars!\n",
        "\n...also an introduction to putting `<div>`s everywhere."
      ],
      "metadata": {}
    },
    {
      "cell_type": "code",
      "source": [
        "from vdom import div\n",
        "\n",
        "# To create a VDOM component, make a function that returns a vdom element.\n",
        "# That's it!\n",
        "def progress(value=0.0, maximum=100.0):\n",
        "    # Compute the percentage we'll take up on screen\n",
        "    percent = int(100*value / float(maximum))\n",
        "    \n",
        "    return (\n",
        "        # The content division element\n",
        "        # See https://developer.mozilla.org/en-US/docs/Web/HTML/Element/div\n",
        "        div(\n",
        "            # We can style the component directly\n",
        "            style=dict(\n",
        "                # How much width we want to take up within the output area\n",
        "                width=\"{:d}%\".format(percent),\n",
        "                # Color!\n",
        "                backgroundColor=\"green\",\n",
        "                # How tall this element will be\n",
        "                height=\"20px\"\n",
        "            )\n",
        "        )\n",
        "    )\n",
        "    \n",
        "progress(10)"
      ],
      "outputs": [
        {
          "output_type": "execute_result",
          "execution_count": 1,
          "data": {
            "application/vdom.v1+json": {
              "tagName": "div",
              "attributes": {
                "style": {
                  "width": "10%",
                  "backgroundColor": "green",
                  "height": "20px"
                }
              },
              "children": null
            },
            "text/plain": [
              "<div />"
            ]
          },
          "metadata": {}
        }
      ],
      "execution_count": 1,
      "metadata": {
        "collapsed": false,
        "outputHidden": false,
        "inputHidden": false
      }
    },
    {
      "cell_type": "markdown",
      "source": [
        "We can make this more clear that it's the sum of two parts by creating another `div` with a lighter color."
      ],
      "metadata": {}
    },
    {
      "cell_type": "code",
      "source": [
        "from vdom import div\n",
        "\n",
        "def progress(value=0.0, maximum=100.0):\n",
        "    percent = int(100*value / float(maximum))\n",
        "    \n",
        "    return div(\n",
        "        div(style=dict(width=\"{:d}%\".format(percent), backgroundColor=\"green\", height=\"20px\", display=\"inline-block\")),\n",
        "        div(style=dict(\n",
        "            # The opposite side of the bar\n",
        "            width=\"{:d}%\".format(100 - percent),\n",
        "            # A greenish-grey for the missing bits\n",
        "            backgroundColor=\"#e7eee7\",\n",
        "            height=\"20px\",\n",
        "            # Make these appear inline next to each other\n",
        "            display=\"inline-block\"\n",
        "        ))\n",
        "    )\n",
        "    \n",
        "progress(30)"
      ],
      "outputs": [],
      "execution_count": null,
      "metadata": {
        "collapsed": false,
        "outputHidden": false,
        "inputHidden": false
      }
    },
    {
      "cell_type": "markdown",
      "source": [
        "Let's go ahead and make a component for both \"sides\" of the progress bar to make it easier to work with."
      ],
      "metadata": {}
    },
    {
      "cell_type": "code",
      "source": [
        "from vdom import div\n",
        "\n",
        "def box(width, backgroundColor):\n",
        "    return div(style=dict(\n",
        "        width=\"{:d}%\".format(width),\n",
        "        backgroundColor=backgroundColor,\n",
        "        height=\"20px\",\n",
        "        display=\"inline-block\",\n",
        "    ))\n",
        "\n\n",
        "def progress(value=0.0, maximum=100.0):\n",
        "    percent = int(100*value / float(maximum))\n",
        "\n",
        "    return div(\n",
        "        box(percent, \"green\"),\n",
        "        box(100 - percent, \"#e7eee7\")\n",
        "    )\n",
        "    \n",
        "progress(50)"
      ],
      "outputs": [],
      "execution_count": null,
      "metadata": {
        "collapsed": false,
        "outputHidden": false,
        "inputHidden": false
      }
    },
    {
      "cell_type": "markdown",
      "source": [
        "## Now to animate!\n",
        "\nUsing `display` updates, we can create simple animations from Python to the notebook."
      ],
      "metadata": {}
    },
    {
      "cell_type": "code",
      "source": [
        "import time\n",
        "\n",
        "# get a handle on the output\n",
        "output = display(progress(0), display_id=True)\n",
        "\n",
        "for ii in range(101):\n",
        "    time.sleep(0.02)\n",
        "    # update the output by replacing it with a new progress bar\n",
        "    output.update(progress(ii))\n",
        "    "
      ],
      "outputs": [],
      "execution_count": null,
      "metadata": {
        "collapsed": false,
        "outputHidden": false,
        "inputHidden": false
      }
    },
    {
      "cell_type": "markdown",
      "source": [
        "That animation can be smoothed a little bit using a `transition` property acting on the width."
      ],
      "metadata": {}
    },
    {
      "cell_type": "code",
      "source": [
        "import time\n",
        "from vdom import div\n",
        "\n",
        "def box(width, backgroundColor):\n",
        "    return div(style=dict(\n",
        "        width=\"{:d}%\".format(width),\n",
        "        backgroundColor=backgroundColor,\n",
        "        height=\"20px\",\n",
        "        display=\"inline-block\",\n",
        "        transition=\"width 1s\"\n",
        "    ))\n",
        "\n\n",
        "def progress(value=0.0, maximum=100.0):\n",
        "    percent = int(100*value / float(maximum))\n",
        "\n",
        "    return div(\n",
        "        box(percent, \"green\"),\n",
        "        box(100 - percent, \"#e7eee7\")\n",
        "    )\n",
        "\n",
        "# get a handle on the output\n",
        "output = display(progress(0), display_id=True)\n",
        "\n",
        "for ii in range(101):\n",
        "    time.sleep(0.05)\n",
        "    # update the output by replacing it with a new progress bar\n",
        "    output.update(progress(ii))"
      ],
      "outputs": [],
      "execution_count": null,
      "metadata": {
        "collapsed": false,
        "outputHidden": false,
        "inputHidden": false
      }
    },
    {
      "cell_type": "markdown",
      "source": [
        "Fantastic! Now you're making _progress_. It's time you know that you're not limited to just one progress bar. You can either wrap them in a `div`:"
      ],
      "metadata": {}
    },
    {
      "cell_type": "code",
      "source": [
        "div(\n",
        "    progress(20),\n",
        "    progress(30)\n",
        ")"
      ],
      "outputs": [],
      "execution_count": null,
      "metadata": {
        "collapsed": false,
        "outputHidden": false,
        "inputHidden": false
      }
    },
    {
      "cell_type": "markdown",
      "source": [
        "Or display them separately:"
      ],
      "metadata": {}
    },
    {
      "cell_type": "code",
      "source": [
        "display(progress(20))\n",
        "display(progress(30))"
      ],
      "outputs": [],
      "execution_count": null,
      "metadata": {
        "collapsed": false,
        "outputHidden": false,
        "inputHidden": false
      }
    },
    {
      "cell_type": "markdown",
      "source": [
        "`display` is like `print` for visualization and we can update these progress bars separately."
      ],
      "metadata": {}
    },
    {
      "cell_type": "code",
      "source": [
        "# Set up two \"jobs\"\n",
        "job1 = [i**3 for i in range(100)][10:]\n",
        "job2 = [i**4 for i in range(100)][10:]\n",
        "size = len(job1)\n",
        "\n",
        "# We make sure to scale our progress bar accordingly \n",
        "max1 = max(job1)\n",
        "max2 = max(job2)\n",
        "\n",
        "output1 = display(progress(0), display_id=True)\n",
        "output2 = display(progress(0), display_id=True)\n",
        "\n",
        "for idx in range(size):\n",
        "    time.sleep(0.05)\n",
        "    output1.update(progress(job1[idx], max1))\n",
        "    output2.update(progress(job2[idx], max2))\n"
      ],
      "outputs": [],
      "execution_count": null,
      "metadata": {
        "collapsed": false,
        "outputHidden": false,
        "inputHidden": false
      }
    },
    {
      "cell_type": "markdown",
      "source": [
        "Now it's your turn! Try to make several progress bars of different colors. Try making red, green, and blue. I'll get you started."
      ],
      "metadata": {}
    },
    {
      "cell_type": "code",
      "source": [
        "import time\n",
        "from vdom import div\n",
        "\n",
        "def box(width, backgroundColor):\n",
        "    return div(style=dict(\n",
        "        width=\"{:d}%\".format(width),\n",
        "        backgroundColor=backgroundColor,\n",
        "        height=\"20px\",\n",
        "        display=\"inline-block\",\n",
        "        transition=\"width 1s\"\n",
        "    ))\n",
        "\n\n",
        "def progress(value=0.0, maximum=100.0):\n",
        "    # How could you parametrize this?\n",
        "    filled_color = \"blue\"\n",
        "    unfilled_color = \"#e7e7ee\"\n",
        "    \n",
        "    percent = int(100*value / float(maximum))\n",
        "\n",
        "    return div(\n",
        "        box(percent, filled_color),\n",
        "        box(100 - percent, unfilled_color)\n",
        "    )\n",
        "\nprogress(40)"
      ],
      "outputs": [],
      "execution_count": null,
      "metadata": {
        "collapsed": false,
        "outputHidden": false,
        "inputHidden": false
      }
    },
    {
      "cell_type": "code",
      "source": [],
      "outputs": [],
      "execution_count": null,
      "metadata": {
        "collapsed": false,
        "outputHidden": false,
        "inputHidden": false
      }
    }
  ],
  "metadata": {
    "kernelspec": {
      "name": "python3",
      "language": "python",
      "display_name": "Python 3"
    },
    "kernel_info": {
      "name": "python3"
    },
    "language_info": {
      "name": "python",
      "version": "3.6.4",
      "mimetype": "text/x-python",
      "codemirror_mode": {
        "name": "ipython",
        "version": 3
      },
      "pygments_lexer": "ipython3",
      "nbconvert_exporter": "python",
      "file_extension": ".py"
    },
    "nteract": {
      "version": "0.6.2"
    }
  },
  "nbformat": 4,
  "nbformat_minor": 4
}