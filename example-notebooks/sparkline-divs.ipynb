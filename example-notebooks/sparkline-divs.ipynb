{
  "cells": [
    {
      "cell_type": "code",
      "source": [
        "import random, time\n",
        "from vdom.helpers import div"
      ],
      "outputs": [],
      "execution_count": 1,
      "metadata": {
        "collapsed": false,
        "outputHidden": false,
        "inputHidden": false
      }
    },
    {
      "cell_type": "code",
      "source": [
        "from vdom.helpers import div\n",
        "def dot(value=1, color='black', size=2):\n",
        "    return div(\n",
        "        style={\n",
        "            'height': '{:d}px'.format(value*2),\n",
        "            'display': 'inline-block',\n",
        "            'width': '{}px'.format(size),\n",
        "            'borderTop': '{}px solid {}'.format(size, color),\n",
        "        }\n",
        "    )\n",
        "\n",
        "def sparklines(l):\n",
        "    dots = [ dot(i) for i in l[:-1] ]\n",
        "    dots.append(dot(l[-1], color='red', size=3))\n",
        "    \n",
        "    return div(dots, style={ 'display': 'inline-block' })"
      ],
      "outputs": [],
      "execution_count": 2,
      "metadata": {
        "collapsed": false,
        "outputHidden": false,
        "inputHidden": false
      }
    },
    {
      "cell_type": "code",
      "source": [
        "events = [25]\n",
        "for _ in range(500):\n",
        "    event = max(min(events[-1] + random.randint(-2, 2), 50), 0)\n",
        "    events.append(event)\n",
        "    \n",
        "handle = display( \n",
        "    sparklines(events),\n",
        "    display_id=True\n",
        ")"
      ],
      "outputs": [
        {
          "output_type": "display_data",
          "data": {
            "application/vdom.v1+json": {
              "tagName": "div",
              "attributes": {
                "style": {
                  "display": "inline-block"
                }
              },
              "children": [
                {
                  "tagName": "div",
                  "attributes": {
                    "style": {
                      "height": "68px",
                      "display": "inline-block",
                      "width": "2px",
                      "borderTop": "2px solid black"
                    }
                  },
                  "children": null
                },
                {
                  "tagName": "div",
                  "attributes": {
                    "style": {
                      "height": "66px",
                      "display": "inline-block",
                      "width": "2px",
                      "borderTop": "2px solid black"
                    }
                  },
                  "children": null
                },
                {
                  "tagName": "div",
                  "attributes": {
                    "style": {
                      "height": "70px",
                      "display": "inline-block",
                      "width": "2px",
                      "borderTop": "2px solid black"
                    }
                  },
                  "children": null
                },
                {
                  "tagName": "div",
                  "attributes": {
                    "style": {
                      "height": "68px",
                      "display": "inline-block",
                      "width": "2px",
                      "borderTop": "2px solid black"
                    }
                  },
                  "children": null
                },
                {
                  "tagName": "div",
                  "attributes": {
                    "style": {
                      "height": "72px",
                      "display": "inline-block",
                      "width": "2px",
                      "borderTop": "2px solid black"
                    }
                  },
                  "children": null
                },
                {
                  "tagName": "div",
                  "attributes": {
                    "style": {
                      "height": "74px",
                      "display": "inline-block",
                      "width": "2px",
                      "borderTop": "2px solid black"
                    }
                  },
                  "children": null
                },
                {
                  "tagName": "div",
                  "attributes": {
                    "style": {
                      "height": "78px",
                      "display": "inline-block",
                      "width": "2px",
                      "borderTop": "2px solid black"
                    }
                  },
                  "children": null
                },
                {
                  "tagName": "div",
                  "attributes": {
                    "style": {
                      "height": "80px",
                      "display": "inline-block",
                      "width": "2px",
                      "borderTop": "2px solid black"
                    }
                  },
                  "children": null
                },
                {
                  "tagName": "div",
                  "attributes": {
                    "style": {
                      "height": "78px",
                      "display": "inline-block",
                      "width": "2px",
                      "borderTop": "2px solid black"
                    }
                  },
                  "children": null
                },
                {
                  "tagName": "div",
                  "attributes": {
                    "style": {
                      "height": "76px",
                      "display": "inline-block",
                      "width": "2px",
                      "borderTop": "2px solid black"
                    }
                  },
                  "children": null
                },
                {
                  "tagName": "div",
                  "attributes": {
                    "style": {
                      "height": "76px",
                      "display": "inline-block",
                      "width": "2px",
                      "borderTop": "2px solid black"
                    }
                  },
                  "children": null
                },
                {
                  "tagName": "div",
                  "attributes": {
                    "style": {
                      "height": "72px",
                      "display": "inline-block",
                      "width": "2px",
                      "borderTop": "2px solid black"
                    }
                  },
                  "children": null
                },
                {
                  "tagName": "div",
                  "attributes": {
                    "style": {
                      "height": "76px",
                      "display": "inline-block",
                      "width": "2px",
                      "borderTop": "2px solid black"
                    }
                  },
                  "children": null
                },
                {
                  "tagName": "div",
                  "attributes": {
                    "style": {
                      "height": "76px",
                      "display": "inline-block",
                      "width": "2px",
                      "borderTop": "2px solid black"
                    }
                  },
                  "children": null
                },
                {
                  "tagName": "div",
                  "attributes": {
                    "style": {
                      "height": "72px",
                      "display": "inline-block",
                      "width": "2px",
                      "borderTop": "2px solid black"
                    }
                  },
                  "children": null
                },
                {
                  "tagName": "div",
                  "attributes": {
                    "style": {
                      "height": "74px",
                      "display": "inline-block",
                      "width": "2px",
                      "borderTop": "2px solid black"
                    }
                  },
                  "children": null
                },
                {
                  "tagName": "div",
                  "attributes": {
                    "style": {
                      "height": "76px",
                      "display": "inline-block",
                      "width": "2px",
                      "borderTop": "2px solid black"
                    }
                  },
                  "children": null
                },
                {
                  "tagName": "div",
                  "attributes": {
                    "style": {
                      "height": "74px",
                      "display": "inline-block",
                      "width": "2px",
                      "borderTop": "2px solid black"
                    }
                  },
                  "children": null
                },
                {
                  "tagName": "div",
                  "attributes": {
                    "style": {
                      "height": "76px",
                      "display": "inline-block",
                      "width": "2px",
                      "borderTop": "2px solid black"
                    }
                  },
                  "children": null
                },
                {
                  "tagName": "div",
                  "attributes": {
                    "style": {
                      "height": "76px",
                      "display": "inline-block",
                      "width": "2px",
                      "borderTop": "2px solid black"
                    }
                  },
                  "children": null
                },
                {
                  "tagName": "div",
                  "attributes": {
                    "style": {
                      "height": "76px",
                      "display": "inline-block",
                      "width": "2px",
                      "borderTop": "2px solid black"
                    }
                  },
                  "children": null
                },
                {
                  "tagName": "div",
                  "attributes": {
                    "style": {
                      "height": "72px",
                      "display": "inline-block",
                      "width": "2px",
                      "borderTop": "2px solid black"
                    }
                  },
                  "children": null
                },
                {
                  "tagName": "div",
                  "attributes": {
                    "style": {
                      "height": "72px",
                      "display": "inline-block",
                      "width": "2px",
                      "borderTop": "2px solid black"
                    }
                  },
                  "children": null
                },
                {
                  "tagName": "div",
                  "attributes": {
                    "style": {
                      "height": "76px",
                      "display": "inline-block",
                      "width": "2px",
                      "borderTop": "2px solid black"
                    }
                  },
                  "children": null
                },
                {
                  "tagName": "div",
                  "attributes": {
                    "style": {
                      "height": "78px",
                      "display": "inline-block",
                      "width": "2px",
                      "borderTop": "2px solid black"
                    }
                  },
                  "children": null
                },
                {
                  "tagName": "div",
                  "attributes": {
                    "style": {
                      "height": "74px",
                      "display": "inline-block",
                      "width": "2px",
                      "borderTop": "2px solid black"
                    }
                  },
                  "children": null
                },
                {
                  "tagName": "div",
                  "attributes": {
                    "style": {
                      "height": "72px",
                      "display": "inline-block",
                      "width": "2px",
                      "borderTop": "2px solid black"
                    }
                  },
                  "children": null
                },
                {
                  "tagName": "div",
                  "attributes": {
                    "style": {
                      "height": "68px",
                      "display": "inline-block",
                      "width": "2px",
                      "borderTop": "2px solid black"
                    }
                  },
                  "children": null
                },
                {
                  "tagName": "div",
                  "attributes": {
                    "style": {
                      "height": "68px",
                      "display": "inline-block",
                      "width": "2px",
                      "borderTop": "2px solid black"
                    }
                  },
                  "children": null
                },
                {
                  "tagName": "div",
                  "attributes": {
                    "style": {
                      "height": "64px",
                      "display": "inline-block",
                      "width": "2px",
                      "borderTop": "2px solid black"
                    }
                  },
                  "children": null
                },
                {
                  "tagName": "div",
                  "attributes": {
                    "style": {
                      "height": "64px",
                      "display": "inline-block",
                      "width": "2px",
                      "borderTop": "2px solid black"
                    }
                  },
                  "children": null
                },
                {
                  "tagName": "div",
                  "attributes": {
                    "style": {
                      "height": "60px",
                      "display": "inline-block",
                      "width": "2px",
                      "borderTop": "2px solid black"
                    }
                  },
                  "children": null
                },
                {
                  "tagName": "div",
                  "attributes": {
                    "style": {
                      "height": "62px",
                      "display": "inline-block",
                      "width": "2px",
                      "borderTop": "2px solid black"
                    }
                  },
                  "children": null
                },
                {
                  "tagName": "div",
                  "attributes": {
                    "style": {
                      "height": "66px",
                      "display": "inline-block",
                      "width": "2px",
                      "borderTop": "2px solid black"
                    }
                  },
                  "children": null
                },
                {
                  "tagName": "div",
                  "attributes": {
                    "style": {
                      "height": "66px",
                      "display": "inline-block",
                      "width": "2px",
                      "borderTop": "2px solid black"
                    }
                  },
                  "children": null
                },
                {
                  "tagName": "div",
                  "attributes": {
                    "style": {
                      "height": "68px",
                      "display": "inline-block",
                      "width": "2px",
                      "borderTop": "2px solid black"
                    }
                  },
                  "children": null
                },
                {
                  "tagName": "div",
                  "attributes": {
                    "style": {
                      "height": "72px",
                      "display": "inline-block",
                      "width": "2px",
                      "borderTop": "2px solid black"
                    }
                  },
                  "children": null
                },
                {
                  "tagName": "div",
                  "attributes": {
                    "style": {
                      "height": "68px",
                      "display": "inline-block",
                      "width": "2px",
                      "borderTop": "2px solid black"
                    }
                  },
                  "children": null
                },
                {
                  "tagName": "div",
                  "attributes": {
                    "style": {
                      "height": "70px",
                      "display": "inline-block",
                      "width": "2px",
                      "borderTop": "2px solid black"
                    }
                  },
                  "children": null
                },
                {
                  "tagName": "div",
                  "attributes": {
                    "style": {
                      "height": "72px",
                      "display": "inline-block",
                      "width": "2px",
                      "borderTop": "2px solid black"
                    }
                  },
                  "children": null
                },
                {
                  "tagName": "div",
                  "attributes": {
                    "style": {
                      "height": "68px",
                      "display": "inline-block",
                      "width": "2px",
                      "borderTop": "2px solid black"
                    }
                  },
                  "children": null
                },
                {
                  "tagName": "div",
                  "attributes": {
                    "style": {
                      "height": "66px",
                      "display": "inline-block",
                      "width": "2px",
                      "borderTop": "2px solid black"
                    }
                  },
                  "children": null
                },
                {
                  "tagName": "div",
                  "attributes": {
                    "style": {
                      "height": "66px",
                      "display": "inline-block",
                      "width": "2px",
                      "borderTop": "2px solid black"
                    }
                  },
                  "children": null
                },
                {
                  "tagName": "div",
                  "attributes": {
                    "style": {
                      "height": "64px",
                      "display": "inline-block",
                      "width": "2px",
                      "borderTop": "2px solid black"
                    }
                  },
                  "children": null
                },
                {
                  "tagName": "div",
                  "attributes": {
                    "style": {
                      "height": "68px",
                      "display": "inline-block",
                      "width": "2px",
                      "borderTop": "2px solid black"
                    }
                  },
                  "children": null
                },
                {
                  "tagName": "div",
                  "attributes": {
                    "style": {
                      "height": "64px",
                      "display": "inline-block",
                      "width": "2px",
                      "borderTop": "2px solid black"
                    }
                  },
                  "children": null
                },
                {
                  "tagName": "div",
                  "attributes": {
                    "style": {
                      "height": "66px",
                      "display": "inline-block",
                      "width": "2px",
                      "borderTop": "2px solid black"
                    }
                  },
                  "children": null
                },
                {
                  "tagName": "div",
                  "attributes": {
                    "style": {
                      "height": "66px",
                      "display": "inline-block",
                      "width": "2px",
                      "borderTop": "2px solid black"
                    }
                  },
                  "children": null
                },
                {
                  "tagName": "div",
                  "attributes": {
                    "style": {
                      "height": "68px",
                      "display": "inline-block",
                      "width": "2px",
                      "borderTop": "2px solid black"
                    }
                  },
                  "children": null
                },
                {
                  "tagName": "div",
                  "attributes": {
                    "style": {
                      "height": "68px",
                      "display": "inline-block",
                      "width": "2px",
                      "borderTop": "2px solid black"
                    }
                  },
                  "children": null
                },
                {
                  "tagName": "div",
                  "attributes": {
                    "style": {
                      "height": "64px",
                      "display": "inline-block",
                      "width": "2px",
                      "borderTop": "2px solid black"
                    }
                  },
                  "children": null
                },
                {
                  "tagName": "div",
                  "attributes": {
                    "style": {
                      "height": "66px",
                      "display": "inline-block",
                      "width": "2px",
                      "borderTop": "2px solid black"
                    }
                  },
                  "children": null
                },
                {
                  "tagName": "div",
                  "attributes": {
                    "style": {
                      "height": "70px",
                      "display": "inline-block",
                      "width": "2px",
                      "borderTop": "2px solid black"
                    }
                  },
                  "children": null
                },
                {
                  "tagName": "div",
                  "attributes": {
                    "style": {
                      "height": "66px",
                      "display": "inline-block",
                      "width": "2px",
                      "borderTop": "2px solid black"
                    }
                  },
                  "children": null
                },
                {
                  "tagName": "div",
                  "attributes": {
                    "style": {
                      "height": "66px",
                      "display": "inline-block",
                      "width": "2px",
                      "borderTop": "2px solid black"
                    }
                  },
                  "children": null
                },
                {
                  "tagName": "div",
                  "attributes": {
                    "style": {
                      "height": "70px",
                      "display": "inline-block",
                      "width": "2px",
                      "borderTop": "2px solid black"
                    }
                  },
                  "children": null
                },
                {
                  "tagName": "div",
                  "attributes": {
                    "style": {
                      "height": "72px",
                      "display": "inline-block",
                      "width": "2px",
                      "borderTop": "2px solid black"
                    }
                  },
                  "children": null
                },
                {
                  "tagName": "div",
                  "attributes": {
                    "style": {
                      "height": "72px",
                      "display": "inline-block",
                      "width": "2px",
                      "borderTop": "2px solid black"
                    }
                  },
                  "children": null
                },
                {
                  "tagName": "div",
                  "attributes": {
                    "style": {
                      "height": "74px",
                      "display": "inline-block",
                      "width": "2px",
                      "borderTop": "2px solid black"
                    }
                  },
                  "children": null
                },
                {
                  "tagName": "div",
                  "attributes": {
                    "style": {
                      "height": "78px",
                      "display": "inline-block",
                      "width": "2px",
                      "borderTop": "2px solid black"
                    }
                  },
                  "children": null
                },
                {
                  "tagName": "div",
                  "attributes": {
                    "style": {
                      "height": "76px",
                      "display": "inline-block",
                      "width": "2px",
                      "borderTop": "2px solid black"
                    }
                  },
                  "children": null
                },
                {
                  "tagName": "div",
                  "attributes": {
                    "style": {
                      "height": "72px",
                      "display": "inline-block",
                      "width": "2px",
                      "borderTop": "2px solid black"
                    }
                  },
                  "children": null
                },
                {
                  "tagName": "div",
                  "attributes": {
                    "style": {
                      "height": "68px",
                      "display": "inline-block",
                      "width": "2px",
                      "borderTop": "2px solid black"
                    }
                  },
                  "children": null
                },
                {
                  "tagName": "div",
                  "attributes": {
                    "style": {
                      "height": "72px",
                      "display": "inline-block",
                      "width": "2px",
                      "borderTop": "2px solid black"
                    }
                  },
                  "children": null
                },
                {
                  "tagName": "div",
                  "attributes": {
                    "style": {
                      "height": "76px",
                      "display": "inline-block",
                      "width": "2px",
                      "borderTop": "2px solid black"
                    }
                  },
                  "children": null
                },
                {
                  "tagName": "div",
                  "attributes": {
                    "style": {
                      "height": "74px",
                      "display": "inline-block",
                      "width": "2px",
                      "borderTop": "2px solid black"
                    }
                  },
                  "children": null
                },
                {
                  "tagName": "div",
                  "attributes": {
                    "style": {
                      "height": "74px",
                      "display": "inline-block",
                      "width": "2px",
                      "borderTop": "2px solid black"
                    }
                  },
                  "children": null
                },
                {
                  "tagName": "div",
                  "attributes": {
                    "style": {
                      "height": "70px",
                      "display": "inline-block",
                      "width": "2px",
                      "borderTop": "2px solid black"
                    }
                  },
                  "children": null
                },
                {
                  "tagName": "div",
                  "attributes": {
                    "style": {
                      "height": "74px",
                      "display": "inline-block",
                      "width": "2px",
                      "borderTop": "2px solid black"
                    }
                  },
                  "children": null
                },
                {
                  "tagName": "div",
                  "attributes": {
                    "style": {
                      "height": "78px",
                      "display": "inline-block",
                      "width": "2px",
                      "borderTop": "2px solid black"
                    }
                  },
                  "children": null
                },
                {
                  "tagName": "div",
                  "attributes": {
                    "style": {
                      "height": "82px",
                      "display": "inline-block",
                      "width": "2px",
                      "borderTop": "2px solid black"
                    }
                  },
                  "children": null
                },
                {
                  "tagName": "div",
                  "attributes": {
                    "style": {
                      "height": "84px",
                      "display": "inline-block",
                      "width": "2px",
                      "borderTop": "2px solid black"
                    }
                  },
                  "children": null
                },
                {
                  "tagName": "div",
                  "attributes": {
                    "style": {
                      "height": "82px",
                      "display": "inline-block",
                      "width": "2px",
                      "borderTop": "2px solid black"
                    }
                  },
                  "children": null
                },
                {
                  "tagName": "div",
                  "attributes": {
                    "style": {
                      "height": "86px",
                      "display": "inline-block",
                      "width": "2px",
                      "borderTop": "2px solid black"
                    }
                  },
                  "children": null
                },
                {
                  "tagName": "div",
                  "attributes": {
                    "style": {
                      "height": "90px",
                      "display": "inline-block",
                      "width": "2px",
                      "borderTop": "2px solid black"
                    }
                  },
                  "children": null
                },
                {
                  "tagName": "div",
                  "attributes": {
                    "style": {
                      "height": "90px",
                      "display": "inline-block",
                      "width": "2px",
                      "borderTop": "2px solid black"
                    }
                  },
                  "children": null
                },
                {
                  "tagName": "div",
                  "attributes": {
                    "style": {
                      "height": "92px",
                      "display": "inline-block",
                      "width": "2px",
                      "borderTop": "2px solid black"
                    }
                  },
                  "children": null
                },
                {
                  "tagName": "div",
                  "attributes": {
                    "style": {
                      "height": "92px",
                      "display": "inline-block",
                      "width": "2px",
                      "borderTop": "2px solid black"
                    }
                  },
                  "children": null
                },
                {
                  "tagName": "div",
                  "attributes": {
                    "style": {
                      "height": "88px",
                      "display": "inline-block",
                      "width": "2px",
                      "borderTop": "2px solid black"
                    }
                  },
                  "children": null
                },
                {
                  "tagName": "div",
                  "attributes": {
                    "style": {
                      "height": "90px",
                      "display": "inline-block",
                      "width": "2px",
                      "borderTop": "2px solid black"
                    }
                  },
                  "children": null
                },
                {
                  "tagName": "div",
                  "attributes": {
                    "style": {
                      "height": "90px",
                      "display": "inline-block",
                      "width": "2px",
                      "borderTop": "2px solid black"
                    }
                  },
                  "children": null
                },
                {
                  "tagName": "div",
                  "attributes": {
                    "style": {
                      "height": "92px",
                      "display": "inline-block",
                      "width": "2px",
                      "borderTop": "2px solid black"
                    }
                  },
                  "children": null
                },
                {
                  "tagName": "div",
                  "attributes": {
                    "style": {
                      "height": "92px",
                      "display": "inline-block",
                      "width": "2px",
                      "borderTop": "2px solid black"
                    }
                  },
                  "children": null
                },
                {
                  "tagName": "div",
                  "attributes": {
                    "style": {
                      "height": "96px",
                      "display": "inline-block",
                      "width": "2px",
                      "borderTop": "2px solid black"
                    }
                  },
                  "children": null
                },
                {
                  "tagName": "div",
                  "attributes": {
                    "style": {
                      "height": "100px",
                      "display": "inline-block",
                      "width": "2px",
                      "borderTop": "2px solid black"
                    }
                  },
                  "children": null
                },
                {
                  "tagName": "div",
                  "attributes": {
                    "style": {
                      "height": "96px",
                      "display": "inline-block",
                      "width": "2px",
                      "borderTop": "2px solid black"
                    }
                  },
                  "children": null
                },
                {
                  "tagName": "div",
                  "attributes": {
                    "style": {
                      "height": "100px",
                      "display": "inline-block",
                      "width": "2px",
                      "borderTop": "2px solid black"
                    }
                  },
                  "children": null
                },
                {
                  "tagName": "div",
                  "attributes": {
                    "style": {
                      "height": "98px",
                      "display": "inline-block",
                      "width": "2px",
                      "borderTop": "2px solid black"
                    }
                  },
                  "children": null
                },
                {
                  "tagName": "div",
                  "attributes": {
                    "style": {
                      "height": "98px",
                      "display": "inline-block",
                      "width": "2px",
                      "borderTop": "2px solid black"
                    }
                  },
                  "children": null
                },
                {
                  "tagName": "div",
                  "attributes": {
                    "style": {
                      "height": "98px",
                      "display": "inline-block",
                      "width": "2px",
                      "borderTop": "2px solid black"
                    }
                  },
                  "children": null
                },
                {
                  "tagName": "div",
                  "attributes": {
                    "style": {
                      "height": "96px",
                      "display": "inline-block",
                      "width": "2px",
                      "borderTop": "2px solid black"
                    }
                  },
                  "children": null
                },
                {
                  "tagName": "div",
                  "attributes": {
                    "style": {
                      "height": "92px",
                      "display": "inline-block",
                      "width": "2px",
                      "borderTop": "2px solid black"
                    }
                  },
                  "children": null
                },
                {
                  "tagName": "div",
                  "attributes": {
                    "style": {
                      "height": "94px",
                      "display": "inline-block",
                      "width": "2px",
                      "borderTop": "2px solid black"
                    }
                  },
                  "children": null
                },
                {
                  "tagName": "div",
                  "attributes": {
                    "style": {
                      "height": "90px",
                      "display": "inline-block",
                      "width": "2px",
                      "borderTop": "2px solid black"
                    }
                  },
                  "children": null
                },
                {
                  "tagName": "div",
                  "attributes": {
                    "style": {
                      "height": "88px",
                      "display": "inline-block",
                      "width": "2px",
                      "borderTop": "2px solid black"
                    }
                  },
                  "children": null
                },
                {
                  "tagName": "div",
                  "attributes": {
                    "style": {
                      "height": "92px",
                      "display": "inline-block",
                      "width": "2px",
                      "borderTop": "2px solid black"
                    }
                  },
                  "children": null
                },
                {
                  "tagName": "div",
                  "attributes": {
                    "style": {
                      "height": "88px",
                      "display": "inline-block",
                      "width": "2px",
                      "borderTop": "2px solid black"
                    }
                  },
                  "children": null
                },
                {
                  "tagName": "div",
                  "attributes": {
                    "style": {
                      "height": "86px",
                      "display": "inline-block",
                      "width": "2px",
                      "borderTop": "2px solid black"
                    }
                  },
                  "children": null
                },
                {
                  "tagName": "div",
                  "attributes": {
                    "style": {
                      "height": "88px",
                      "display": "inline-block",
                      "width": "2px",
                      "borderTop": "2px solid black"
                    }
                  },
                  "children": null
                },
                {
                  "tagName": "div",
                  "attributes": {
                    "style": {
                      "height": "92px",
                      "display": "inline-block",
                      "width": "2px",
                      "borderTop": "2px solid black"
                    }
                  },
                  "children": null
                },
                {
                  "tagName": "div",
                  "attributes": {
                    "style": {
                      "height": "96px",
                      "display": "inline-block",
                      "width": "2px",
                      "borderTop": "2px solid black"
                    }
                  },
                  "children": null
                },
                {
                  "tagName": "div",
                  "attributes": {
                    "style": {
                      "height": "100px",
                      "display": "inline-block",
                      "width": "2px",
                      "borderTop": "2px solid black"
                    }
                  },
                  "children": null
                },
                {
                  "tagName": "div",
                  "attributes": {
                    "style": {
                      "height": "100px",
                      "display": "inline-block",
                      "width": "2px",
                      "borderTop": "2px solid black"
                    }
                  },
                  "children": null
                },
                {
                  "tagName": "div",
                  "attributes": {
                    "style": {
                      "height": "100px",
                      "display": "inline-block",
                      "width": "2px",
                      "borderTop": "2px solid black"
                    }
                  },
                  "children": null
                },
                {
                  "tagName": "div",
                  "attributes": {
                    "style": {
                      "height": "100px",
                      "display": "inline-block",
                      "width": "2px",
                      "borderTop": "2px solid black"
                    }
                  },
                  "children": null
                },
                {
                  "tagName": "div",
                  "attributes": {
                    "style": {
                      "height": "100px",
                      "display": "inline-block",
                      "width": "2px",
                      "borderTop": "2px solid black"
                    }
                  },
                  "children": null
                },
                {
                  "tagName": "div",
                  "attributes": {
                    "style": {
                      "height": "100px",
                      "display": "inline-block",
                      "width": "2px",
                      "borderTop": "2px solid black"
                    }
                  },
                  "children": null
                },
                {
                  "tagName": "div",
                  "attributes": {
                    "style": {
                      "height": "98px",
                      "display": "inline-block",
                      "width": "2px",
                      "borderTop": "2px solid black"
                    }
                  },
                  "children": null
                },
                {
                  "tagName": "div",
                  "attributes": {
                    "style": {
                      "height": "94px",
                      "display": "inline-block",
                      "width": "2px",
                      "borderTop": "2px solid black"
                    }
                  },
                  "children": null
                },
                {
                  "tagName": "div",
                  "attributes": {
                    "style": {
                      "height": "94px",
                      "display": "inline-block",
                      "width": "2px",
                      "borderTop": "2px solid black"
                    }
                  },
                  "children": null
                },
                {
                  "tagName": "div",
                  "attributes": {
                    "style": {
                      "height": "90px",
                      "display": "inline-block",
                      "width": "2px",
                      "borderTop": "2px solid black"
                    }
                  },
                  "children": null
                },
                {
                  "tagName": "div",
                  "attributes": {
                    "style": {
                      "height": "90px",
                      "display": "inline-block",
                      "width": "2px",
                      "borderTop": "2px solid black"
                    }
                  },
                  "children": null
                },
                {
                  "tagName": "div",
                  "attributes": {
                    "style": {
                      "height": "86px",
                      "display": "inline-block",
                      "width": "2px",
                      "borderTop": "2px solid black"
                    }
                  },
                  "children": null
                },
                {
                  "tagName": "div",
                  "attributes": {
                    "style": {
                      "height": "82px",
                      "display": "inline-block",
                      "width": "2px",
                      "borderTop": "2px solid black"
                    }
                  },
                  "children": null
                },
                {
                  "tagName": "div",
                  "attributes": {
                    "style": {
                      "height": "80px",
                      "display": "inline-block",
                      "width": "2px",
                      "borderTop": "2px solid black"
                    }
                  },
                  "children": null
                },
                {
                  "tagName": "div",
                  "attributes": {
                    "style": {
                      "height": "76px",
                      "display": "inline-block",
                      "width": "2px",
                      "borderTop": "2px solid black"
                    }
                  },
                  "children": null
                },
                {
                  "tagName": "div",
                  "attributes": {
                    "style": {
                      "height": "72px",
                      "display": "inline-block",
                      "width": "2px",
                      "borderTop": "2px solid black"
                    }
                  },
                  "children": null
                },
                {
                  "tagName": "div",
                  "attributes": {
                    "style": {
                      "height": "74px",
                      "display": "inline-block",
                      "width": "2px",
                      "borderTop": "2px solid black"
                    }
                  },
                  "children": null
                },
                {
                  "tagName": "div",
                  "attributes": {
                    "style": {
                      "height": "72px",
                      "display": "inline-block",
                      "width": "2px",
                      "borderTop": "2px solid black"
                    }
                  },
                  "children": null
                },
                {
                  "tagName": "div",
                  "attributes": {
                    "style": {
                      "height": "76px",
                      "display": "inline-block",
                      "width": "2px",
                      "borderTop": "2px solid black"
                    }
                  },
                  "children": null
                },
                {
                  "tagName": "div",
                  "attributes": {
                    "style": {
                      "height": "74px",
                      "display": "inline-block",
                      "width": "2px",
                      "borderTop": "2px solid black"
                    }
                  },
                  "children": null
                },
                {
                  "tagName": "div",
                  "attributes": {
                    "style": {
                      "height": "74px",
                      "display": "inline-block",
                      "width": "2px",
                      "borderTop": "2px solid black"
                    }
                  },
                  "children": null
                },
                {
                  "tagName": "div",
                  "attributes": {
                    "style": {
                      "height": "76px",
                      "display": "inline-block",
                      "width": "2px",
                      "borderTop": "2px solid black"
                    }
                  },
                  "children": null
                },
                {
                  "tagName": "div",
                  "attributes": {
                    "style": {
                      "height": "76px",
                      "display": "inline-block",
                      "width": "2px",
                      "borderTop": "2px solid black"
                    }
                  },
                  "children": null
                },
                {
                  "tagName": "div",
                  "attributes": {
                    "style": {
                      "height": "72px",
                      "display": "inline-block",
                      "width": "2px",
                      "borderTop": "2px solid black"
                    }
                  },
                  "children": null
                },
                {
                  "tagName": "div",
                  "attributes": {
                    "style": {
                      "height": "74px",
                      "display": "inline-block",
                      "width": "2px",
                      "borderTop": "2px solid black"
                    }
                  },
                  "children": null
                },
                {
                  "tagName": "div",
                  "attributes": {
                    "style": {
                      "height": "76px",
                      "display": "inline-block",
                      "width": "2px",
                      "borderTop": "2px solid black"
                    }
                  },
                  "children": null
                },
                {
                  "tagName": "div",
                  "attributes": {
                    "style": {
                      "height": "80px",
                      "display": "inline-block",
                      "width": "2px",
                      "borderTop": "2px solid black"
                    }
                  },
                  "children": null
                },
                {
                  "tagName": "div",
                  "attributes": {
                    "style": {
                      "height": "82px",
                      "display": "inline-block",
                      "width": "2px",
                      "borderTop": "2px solid black"
                    }
                  },
                  "children": null
                },
                {
                  "tagName": "div",
                  "attributes": {
                    "style": {
                      "height": "80px",
                      "display": "inline-block",
                      "width": "2px",
                      "borderTop": "2px solid black"
                    }
                  },
                  "children": null
                },
                {
                  "tagName": "div",
                  "attributes": {
                    "style": {
                      "height": "80px",
                      "display": "inline-block",
                      "width": "2px",
                      "borderTop": "2px solid black"
                    }
                  },
                  "children": null
                },
                {
                  "tagName": "div",
                  "attributes": {
                    "style": {
                      "height": "84px",
                      "display": "inline-block",
                      "width": "2px",
                      "borderTop": "2px solid black"
                    }
                  },
                  "children": null
                },
                {
                  "tagName": "div",
                  "attributes": {
                    "style": {
                      "height": "82px",
                      "display": "inline-block",
                      "width": "2px",
                      "borderTop": "2px solid black"
                    }
                  },
                  "children": null
                },
                {
                  "tagName": "div",
                  "attributes": {
                    "style": {
                      "height": "82px",
                      "display": "inline-block",
                      "width": "2px",
                      "borderTop": "2px solid black"
                    }
                  },
                  "children": null
                },
                {
                  "tagName": "div",
                  "attributes": {
                    "style": {
                      "height": "84px",
                      "display": "inline-block",
                      "width": "2px",
                      "borderTop": "2px solid black"
                    }
                  },
                  "children": null
                },
                {
                  "tagName": "div",
                  "attributes": {
                    "style": {
                      "height": "84px",
                      "display": "inline-block",
                      "width": "2px",
                      "borderTop": "2px solid black"
                    }
                  },
                  "children": null
                },
                {
                  "tagName": "div",
                  "attributes": {
                    "style": {
                      "height": "82px",
                      "display": "inline-block",
                      "width": "2px",
                      "borderTop": "2px solid black"
                    }
                  },
                  "children": null
                },
                {
                  "tagName": "div",
                  "attributes": {
                    "style": {
                      "height": "80px",
                      "display": "inline-block",
                      "width": "2px",
                      "borderTop": "2px solid black"
                    }
                  },
                  "children": null
                },
                {
                  "tagName": "div",
                  "attributes": {
                    "style": {
                      "height": "84px",
                      "display": "inline-block",
                      "width": "2px",
                      "borderTop": "2px solid black"
                    }
                  },
                  "children": null
                },
                {
                  "tagName": "div",
                  "attributes": {
                    "style": {
                      "height": "88px",
                      "display": "inline-block",
                      "width": "2px",
                      "borderTop": "2px solid black"
                    }
                  },
                  "children": null
                },
                {
                  "tagName": "div",
                  "attributes": {
                    "style": {
                      "height": "90px",
                      "display": "inline-block",
                      "width": "2px",
                      "borderTop": "2px solid black"
                    }
                  },
                  "children": null
                },
                {
                  "tagName": "div",
                  "attributes": {
                    "style": {
                      "height": "92px",
                      "display": "inline-block",
                      "width": "2px",
                      "borderTop": "2px solid black"
                    }
                  },
                  "children": null
                },
                {
                  "tagName": "div",
                  "attributes": {
                    "style": {
                      "height": "92px",
                      "display": "inline-block",
                      "width": "2px",
                      "borderTop": "2px solid black"
                    }
                  },
                  "children": null
                },
                {
                  "tagName": "div",
                  "attributes": {
                    "style": {
                      "height": "94px",
                      "display": "inline-block",
                      "width": "2px",
                      "borderTop": "2px solid black"
                    }
                  },
                  "children": null
                },
                {
                  "tagName": "div",
                  "attributes": {
                    "style": {
                      "height": "90px",
                      "display": "inline-block",
                      "width": "2px",
                      "borderTop": "2px solid black"
                    }
                  },
                  "children": null
                },
                {
                  "tagName": "div",
                  "attributes": {
                    "style": {
                      "height": "88px",
                      "display": "inline-block",
                      "width": "2px",
                      "borderTop": "2px solid black"
                    }
                  },
                  "children": null
                },
                {
                  "tagName": "div",
                  "attributes": {
                    "style": {
                      "height": "92px",
                      "display": "inline-block",
                      "width": "2px",
                      "borderTop": "2px solid black"
                    }
                  },
                  "children": null
                },
                {
                  "tagName": "div",
                  "attributes": {
                    "style": {
                      "height": "90px",
                      "display": "inline-block",
                      "width": "2px",
                      "borderTop": "2px solid black"
                    }
                  },
                  "children": null
                },
                {
                  "tagName": "div",
                  "attributes": {
                    "style": {
                      "height": "94px",
                      "display": "inline-block",
                      "width": "2px",
                      "borderTop": "2px solid black"
                    }
                  },
                  "children": null
                },
                {
                  "tagName": "div",
                  "attributes": {
                    "style": {
                      "height": "96px",
                      "display": "inline-block",
                      "width": "2px",
                      "borderTop": "2px solid black"
                    }
                  },
                  "children": null
                },
                {
                  "tagName": "div",
                  "attributes": {
                    "style": {
                      "height": "96px",
                      "display": "inline-block",
                      "width": "2px",
                      "borderTop": "2px solid black"
                    }
                  },
                  "children": null
                },
                {
                  "tagName": "div",
                  "attributes": {
                    "style": {
                      "height": "98px",
                      "display": "inline-block",
                      "width": "2px",
                      "borderTop": "2px solid black"
                    }
                  },
                  "children": null
                },
                {
                  "tagName": "div",
                  "attributes": {
                    "style": {
                      "height": "100px",
                      "display": "inline-block",
                      "width": "2px",
                      "borderTop": "2px solid black"
                    }
                  },
                  "children": null
                },
                {
                  "tagName": "div",
                  "attributes": {
                    "style": {
                      "height": "96px",
                      "display": "inline-block",
                      "width": "2px",
                      "borderTop": "2px solid black"
                    }
                  },
                  "children": null
                },
                {
                  "tagName": "div",
                  "attributes": {
                    "style": {
                      "height": "94px",
                      "display": "inline-block",
                      "width": "2px",
                      "borderTop": "2px solid black"
                    }
                  },
                  "children": null
                },
                {
                  "tagName": "div",
                  "attributes": {
                    "style": {
                      "height": "98px",
                      "display": "inline-block",
                      "width": "2px",
                      "borderTop": "2px solid black"
                    }
                  },
                  "children": null
                },
                {
                  "tagName": "div",
                  "attributes": {
                    "style": {
                      "height": "98px",
                      "display": "inline-block",
                      "width": "2px",
                      "borderTop": "2px solid black"
                    }
                  },
                  "children": null
                },
                {
                  "tagName": "div",
                  "attributes": {
                    "style": {
                      "height": "100px",
                      "display": "inline-block",
                      "width": "2px",
                      "borderTop": "2px solid black"
                    }
                  },
                  "children": null
                },
                {
                  "tagName": "div",
                  "attributes": {
                    "style": {
                      "height": "100px",
                      "display": "inline-block",
                      "width": "2px",
                      "borderTop": "2px solid black"
                    }
                  },
                  "children": null
                },
                {
                  "tagName": "div",
                  "attributes": {
                    "style": {
                      "height": "98px",
                      "display": "inline-block",
                      "width": "2px",
                      "borderTop": "2px solid black"
                    }
                  },
                  "children": null
                },
                {
                  "tagName": "div",
                  "attributes": {
                    "style": {
                      "height": "100px",
                      "display": "inline-block",
                      "width": "2px",
                      "borderTop": "2px solid black"
                    }
                  },
                  "children": null
                },
                {
                  "tagName": "div",
                  "attributes": {
                    "style": {
                      "height": "100px",
                      "display": "inline-block",
                      "width": "2px",
                      "borderTop": "2px solid black"
                    }
                  },
                  "children": null
                },
                {
                  "tagName": "div",
                  "attributes": {
                    "style": {
                      "height": "100px",
                      "display": "inline-block",
                      "width": "2px",
                      "borderTop": "2px solid black"
                    }
                  },
                  "children": null
                },
                {
                  "tagName": "div",
                  "attributes": {
                    "style": {
                      "height": "100px",
                      "display": "inline-block",
                      "width": "2px",
                      "borderTop": "2px solid black"
                    }
                  },
                  "children": null
                },
                {
                  "tagName": "div",
                  "attributes": {
                    "style": {
                      "height": "100px",
                      "display": "inline-block",
                      "width": "2px",
                      "borderTop": "2px solid black"
                    }
                  },
                  "children": null
                },
                {
                  "tagName": "div",
                  "attributes": {
                    "style": {
                      "height": "98px",
                      "display": "inline-block",
                      "width": "2px",
                      "borderTop": "2px solid black"
                    }
                  },
                  "children": null
                },
                {
                  "tagName": "div",
                  "attributes": {
                    "style": {
                      "height": "94px",
                      "display": "inline-block",
                      "width": "2px",
                      "borderTop": "2px solid black"
                    }
                  },
                  "children": null
                },
                {
                  "tagName": "div",
                  "attributes": {
                    "style": {
                      "height": "96px",
                      "display": "inline-block",
                      "width": "2px",
                      "borderTop": "2px solid black"
                    }
                  },
                  "children": null
                },
                {
                  "tagName": "div",
                  "attributes": {
                    "style": {
                      "height": "94px",
                      "display": "inline-block",
                      "width": "2px",
                      "borderTop": "2px solid black"
                    }
                  },
                  "children": null
                },
                {
                  "tagName": "div",
                  "attributes": {
                    "style": {
                      "height": "98px",
                      "display": "inline-block",
                      "width": "2px",
                      "borderTop": "2px solid black"
                    }
                  },
                  "children": null
                },
                {
                  "tagName": "div",
                  "attributes": {
                    "style": {
                      "height": "94px",
                      "display": "inline-block",
                      "width": "2px",
                      "borderTop": "2px solid black"
                    }
                  },
                  "children": null
                },
                {
                  "tagName": "div",
                  "attributes": {
                    "style": {
                      "height": "92px",
                      "display": "inline-block",
                      "width": "2px",
                      "borderTop": "2px solid black"
                    }
                  },
                  "children": null
                },
                {
                  "tagName": "div",
                  "attributes": {
                    "style": {
                      "height": "94px",
                      "display": "inline-block",
                      "width": "2px",
                      "borderTop": "2px solid black"
                    }
                  },
                  "children": null
                },
                {
                  "tagName": "div",
                  "attributes": {
                    "style": {
                      "height": "92px",
                      "display": "inline-block",
                      "width": "2px",
                      "borderTop": "2px solid black"
                    }
                  },
                  "children": null
                },
                {
                  "tagName": "div",
                  "attributes": {
                    "style": {
                      "height": "96px",
                      "display": "inline-block",
                      "width": "2px",
                      "borderTop": "2px solid black"
                    }
                  },
                  "children": null
                },
                {
                  "tagName": "div",
                  "attributes": {
                    "style": {
                      "height": "98px",
                      "display": "inline-block",
                      "width": "2px",
                      "borderTop": "2px solid black"
                    }
                  },
                  "children": null
                },
                {
                  "tagName": "div",
                  "attributes": {
                    "style": {
                      "height": "100px",
                      "display": "inline-block",
                      "width": "2px",
                      "borderTop": "2px solid black"
                    }
                  },
                  "children": null
                },
                {
                  "tagName": "div",
                  "attributes": {
                    "style": {
                      "height": "100px",
                      "display": "inline-block",
                      "width": "2px",
                      "borderTop": "2px solid black"
                    }
                  },
                  "children": null
                },
                {
                  "tagName": "div",
                  "attributes": {
                    "style": {
                      "height": "100px",
                      "display": "inline-block",
                      "width": "2px",
                      "borderTop": "2px solid black"
                    }
                  },
                  "children": null
                },
                {
                  "tagName": "div",
                  "attributes": {
                    "style": {
                      "height": "100px",
                      "display": "inline-block",
                      "width": "2px",
                      "borderTop": "2px solid black"
                    }
                  },
                  "children": null
                },
                {
                  "tagName": "div",
                  "attributes": {
                    "style": {
                      "height": "98px",
                      "display": "inline-block",
                      "width": "2px",
                      "borderTop": "2px solid black"
                    }
                  },
                  "children": null
                },
                {
                  "tagName": "div",
                  "attributes": {
                    "style": {
                      "height": "96px",
                      "display": "inline-block",
                      "width": "2px",
                      "borderTop": "2px solid black"
                    }
                  },
                  "children": null
                },
                {
                  "tagName": "div",
                  "attributes": {
                    "style": {
                      "height": "92px",
                      "display": "inline-block",
                      "width": "2px",
                      "borderTop": "2px solid black"
                    }
                  },
                  "children": null
                },
                {
                  "tagName": "div",
                  "attributes": {
                    "style": {
                      "height": "88px",
                      "display": "inline-block",
                      "width": "2px",
                      "borderTop": "2px solid black"
                    }
                  },
                  "children": null
                },
                {
                  "tagName": "div",
                  "attributes": {
                    "style": {
                      "height": "84px",
                      "display": "inline-block",
                      "width": "2px",
                      "borderTop": "2px solid black"
                    }
                  },
                  "children": null
                },
                {
                  "tagName": "div",
                  "attributes": {
                    "style": {
                      "height": "80px",
                      "display": "inline-block",
                      "width": "2px",
                      "borderTop": "2px solid black"
                    }
                  },
                  "children": null
                },
                {
                  "tagName": "div",
                  "attributes": {
                    "style": {
                      "height": "80px",
                      "display": "inline-block",
                      "width": "2px",
                      "borderTop": "2px solid black"
                    }
                  },
                  "children": null
                },
                {
                  "tagName": "div",
                  "attributes": {
                    "style": {
                      "height": "82px",
                      "display": "inline-block",
                      "width": "2px",
                      "borderTop": "2px solid black"
                    }
                  },
                  "children": null
                },
                {
                  "tagName": "div",
                  "attributes": {
                    "style": {
                      "height": "80px",
                      "display": "inline-block",
                      "width": "2px",
                      "borderTop": "2px solid black"
                    }
                  },
                  "children": null
                },
                {
                  "tagName": "div",
                  "attributes": {
                    "style": {
                      "height": "78px",
                      "display": "inline-block",
                      "width": "2px",
                      "borderTop": "2px solid black"
                    }
                  },
                  "children": null
                },
                {
                  "tagName": "div",
                  "attributes": {
                    "style": {
                      "height": "76px",
                      "display": "inline-block",
                      "width": "2px",
                      "borderTop": "2px solid black"
                    }
                  },
                  "children": null
                },
                {
                  "tagName": "div",
                  "attributes": {
                    "style": {
                      "height": "76px",
                      "display": "inline-block",
                      "width": "2px",
                      "borderTop": "2px solid black"
                    }
                  },
                  "children": null
                },
                {
                  "tagName": "div",
                  "attributes": {
                    "style": {
                      "height": "78px",
                      "display": "inline-block",
                      "width": "2px",
                      "borderTop": "2px solid black"
                    }
                  },
                  "children": null
                },
                {
                  "tagName": "div",
                  "attributes": {
                    "style": {
                      "height": "82px",
                      "display": "inline-block",
                      "width": "2px",
                      "borderTop": "2px solid black"
                    }
                  },
                  "children": null
                },
                {
                  "tagName": "div",
                  "attributes": {
                    "style": {
                      "height": "82px",
                      "display": "inline-block",
                      "width": "2px",
                      "borderTop": "2px solid black"
                    }
                  },
                  "children": null
                },
                {
                  "tagName": "div",
                  "attributes": {
                    "style": {
                      "height": "78px",
                      "display": "inline-block",
                      "width": "2px",
                      "borderTop": "2px solid black"
                    }
                  },
                  "children": null
                },
                {
                  "tagName": "div",
                  "attributes": {
                    "style": {
                      "height": "76px",
                      "display": "inline-block",
                      "width": "2px",
                      "borderTop": "2px solid black"
                    }
                  },
                  "children": null
                },
                {
                  "tagName": "div",
                  "attributes": {
                    "style": {
                      "height": "80px",
                      "display": "inline-block",
                      "width": "2px",
                      "borderTop": "2px solid black"
                    }
                  },
                  "children": null
                },
                {
                  "tagName": "div",
                  "attributes": {
                    "style": {
                      "height": "84px",
                      "display": "inline-block",
                      "width": "2px",
                      "borderTop": "2px solid black"
                    }
                  },
                  "children": null
                },
                {
                  "tagName": "div",
                  "attributes": {
                    "style": {
                      "height": "86px",
                      "display": "inline-block",
                      "width": "2px",
                      "borderTop": "2px solid black"
                    }
                  },
                  "children": null
                },
                {
                  "tagName": "div",
                  "attributes": {
                    "style": {
                      "height": "82px",
                      "display": "inline-block",
                      "width": "2px",
                      "borderTop": "2px solid black"
                    }
                  },
                  "children": null
                },
                {
                  "tagName": "div",
                  "attributes": {
                    "style": {
                      "height": "82px",
                      "display": "inline-block",
                      "width": "2px",
                      "borderTop": "2px solid black"
                    }
                  },
                  "children": null
                },
                {
                  "tagName": "div",
                  "attributes": {
                    "style": {
                      "height": "86px",
                      "display": "inline-block",
                      "width": "2px",
                      "borderTop": "2px solid black"
                    }
                  },
                  "children": null
                },
                {
                  "tagName": "div",
                  "attributes": {
                    "style": {
                      "height": "90px",
                      "display": "inline-block",
                      "width": "2px",
                      "borderTop": "2px solid black"
                    }
                  },
                  "children": null
                },
                {
                  "tagName": "div",
                  "attributes": {
                    "style": {
                      "height": "86px",
                      "display": "inline-block",
                      "width": "2px",
                      "borderTop": "2px solid black"
                    }
                  },
                  "children": null
                },
                {
                  "tagName": "div",
                  "attributes": {
                    "style": {
                      "height": "86px",
                      "display": "inline-block",
                      "width": "2px",
                      "borderTop": "2px solid black"
                    }
                  },
                  "children": null
                },
                {
                  "tagName": "div",
                  "attributes": {
                    "style": {
                      "height": "82px",
                      "display": "inline-block",
                      "width": "2px",
                      "borderTop": "2px solid black"
                    }
                  },
                  "children": null
                },
                {
                  "tagName": "div",
                  "attributes": {
                    "style": {
                      "height": "86px",
                      "display": "inline-block",
                      "width": "2px",
                      "borderTop": "2px solid black"
                    }
                  },
                  "children": null
                },
                {
                  "tagName": "div",
                  "attributes": {
                    "style": {
                      "height": "90px",
                      "display": "inline-block",
                      "width": "2px",
                      "borderTop": "2px solid black"
                    }
                  },
                  "children": null
                },
                {
                  "tagName": "div",
                  "attributes": {
                    "style": {
                      "height": "88px",
                      "display": "inline-block",
                      "width": "2px",
                      "borderTop": "2px solid black"
                    }
                  },
                  "children": null
                },
                {
                  "tagName": "div",
                  "attributes": {
                    "style": {
                      "height": "84px",
                      "display": "inline-block",
                      "width": "2px",
                      "borderTop": "2px solid black"
                    }
                  },
                  "children": null
                },
                {
                  "tagName": "div",
                  "attributes": {
                    "style": {
                      "height": "86px",
                      "display": "inline-block",
                      "width": "2px",
                      "borderTop": "2px solid black"
                    }
                  },
                  "children": null
                },
                {
                  "tagName": "div",
                  "attributes": {
                    "style": {
                      "height": "88px",
                      "display": "inline-block",
                      "width": "2px",
                      "borderTop": "2px solid black"
                    }
                  },
                  "children": null
                },
                {
                  "tagName": "div",
                  "attributes": {
                    "style": {
                      "height": "88px",
                      "display": "inline-block",
                      "width": "2px",
                      "borderTop": "2px solid black"
                    }
                  },
                  "children": null
                },
                {
                  "tagName": "div",
                  "attributes": {
                    "style": {
                      "height": "92px",
                      "display": "inline-block",
                      "width": "2px",
                      "borderTop": "2px solid black"
                    }
                  },
                  "children": null
                },
                {
                  "tagName": "div",
                  "attributes": {
                    "style": {
                      "height": "90px",
                      "display": "inline-block",
                      "width": "2px",
                      "borderTop": "2px solid black"
                    }
                  },
                  "children": null
                },
                {
                  "tagName": "div",
                  "attributes": {
                    "style": {
                      "height": "94px",
                      "display": "inline-block",
                      "width": "2px",
                      "borderTop": "2px solid black"
                    }
                  },
                  "children": null
                },
                {
                  "tagName": "div",
                  "attributes": {
                    "style": {
                      "height": "92px",
                      "display": "inline-block",
                      "width": "2px",
                      "borderTop": "2px solid black"
                    }
                  },
                  "children": null
                },
                {
                  "tagName": "div",
                  "attributes": {
                    "style": {
                      "height": "90px",
                      "display": "inline-block",
                      "width": "2px",
                      "borderTop": "2px solid black"
                    }
                  },
                  "children": null
                },
                {
                  "tagName": "div",
                  "attributes": {
                    "style": {
                      "height": "86px",
                      "display": "inline-block",
                      "width": "2px",
                      "borderTop": "2px solid black"
                    }
                  },
                  "children": null
                },
                {
                  "tagName": "div",
                  "attributes": {
                    "style": {
                      "height": "82px",
                      "display": "inline-block",
                      "width": "2px",
                      "borderTop": "2px solid black"
                    }
                  },
                  "children": null
                },
                {
                  "tagName": "div",
                  "attributes": {
                    "style": {
                      "height": "82px",
                      "display": "inline-block",
                      "width": "2px",
                      "borderTop": "2px solid black"
                    }
                  },
                  "children": null
                },
                {
                  "tagName": "div",
                  "attributes": {
                    "style": {
                      "height": "86px",
                      "display": "inline-block",
                      "width": "2px",
                      "borderTop": "2px solid black"
                    }
                  },
                  "children": null
                },
                {
                  "tagName": "div",
                  "attributes": {
                    "style": {
                      "height": "82px",
                      "display": "inline-block",
                      "width": "2px",
                      "borderTop": "2px solid black"
                    }
                  },
                  "children": null
                },
                {
                  "tagName": "div",
                  "attributes": {
                    "style": {
                      "height": "80px",
                      "display": "inline-block",
                      "width": "2px",
                      "borderTop": "2px solid black"
                    }
                  },
                  "children": null
                },
                {
                  "tagName": "div",
                  "attributes": {
                    "style": {
                      "height": "80px",
                      "display": "inline-block",
                      "width": "2px",
                      "borderTop": "2px solid black"
                    }
                  },
                  "children": null
                },
                {
                  "tagName": "div",
                  "attributes": {
                    "style": {
                      "height": "78px",
                      "display": "inline-block",
                      "width": "2px",
                      "borderTop": "2px solid black"
                    }
                  },
                  "children": null
                },
                {
                  "tagName": "div",
                  "attributes": {
                    "style": {
                      "height": "82px",
                      "display": "inline-block",
                      "width": "2px",
                      "borderTop": "2px solid black"
                    }
                  },
                  "children": null
                },
                {
                  "tagName": "div",
                  "attributes": {
                    "style": {
                      "height": "80px",
                      "display": "inline-block",
                      "width": "2px",
                      "borderTop": "2px solid black"
                    }
                  },
                  "children": null
                },
                {
                  "tagName": "div",
                  "attributes": {
                    "style": {
                      "height": "84px",
                      "display": "inline-block",
                      "width": "2px",
                      "borderTop": "2px solid black"
                    }
                  },
                  "children": null
                },
                {
                  "tagName": "div",
                  "attributes": {
                    "style": {
                      "height": "88px",
                      "display": "inline-block",
                      "width": "2px",
                      "borderTop": "2px solid black"
                    }
                  },
                  "children": null
                },
                {
                  "tagName": "div",
                  "attributes": {
                    "style": {
                      "height": "92px",
                      "display": "inline-block",
                      "width": "2px",
                      "borderTop": "2px solid black"
                    }
                  },
                  "children": null
                },
                {
                  "tagName": "div",
                  "attributes": {
                    "style": {
                      "height": "90px",
                      "display": "inline-block",
                      "width": "2px",
                      "borderTop": "2px solid black"
                    }
                  },
                  "children": null
                },
                {
                  "tagName": "div",
                  "attributes": {
                    "style": {
                      "height": "86px",
                      "display": "inline-block",
                      "width": "2px",
                      "borderTop": "2px solid black"
                    }
                  },
                  "children": null
                },
                {
                  "tagName": "div",
                  "attributes": {
                    "style": {
                      "height": "82px",
                      "display": "inline-block",
                      "width": "2px",
                      "borderTop": "2px solid black"
                    }
                  },
                  "children": null
                },
                {
                  "tagName": "div",
                  "attributes": {
                    "style": {
                      "height": "86px",
                      "display": "inline-block",
                      "width": "2px",
                      "borderTop": "2px solid black"
                    }
                  },
                  "children": null
                },
                {
                  "tagName": "div",
                  "attributes": {
                    "style": {
                      "height": "82px",
                      "display": "inline-block",
                      "width": "2px",
                      "borderTop": "2px solid black"
                    }
                  },
                  "children": null
                },
                {
                  "tagName": "div",
                  "attributes": {
                    "style": {
                      "height": "80px",
                      "display": "inline-block",
                      "width": "2px",
                      "borderTop": "2px solid black"
                    }
                  },
                  "children": null
                },
                {
                  "tagName": "div",
                  "attributes": {
                    "style": {
                      "height": "84px",
                      "display": "inline-block",
                      "width": "2px",
                      "borderTop": "2px solid black"
                    }
                  },
                  "children": null
                },
                {
                  "tagName": "div",
                  "attributes": {
                    "style": {
                      "height": "88px",
                      "display": "inline-block",
                      "width": "2px",
                      "borderTop": "2px solid black"
                    }
                  },
                  "children": null
                },
                {
                  "tagName": "div",
                  "attributes": {
                    "style": {
                      "height": "90px",
                      "display": "inline-block",
                      "width": "2px",
                      "borderTop": "2px solid black"
                    }
                  },
                  "children": null
                },
                {
                  "tagName": "div",
                  "attributes": {
                    "style": {
                      "height": "86px",
                      "display": "inline-block",
                      "width": "2px",
                      "borderTop": "2px solid black"
                    }
                  },
                  "children": null
                },
                {
                  "tagName": "div",
                  "attributes": {
                    "style": {
                      "height": "86px",
                      "display": "inline-block",
                      "width": "2px",
                      "borderTop": "2px solid black"
                    }
                  },
                  "children": null
                },
                {
                  "tagName": "div",
                  "attributes": {
                    "style": {
                      "height": "88px",
                      "display": "inline-block",
                      "width": "2px",
                      "borderTop": "2px solid black"
                    }
                  },
                  "children": null
                },
                {
                  "tagName": "div",
                  "attributes": {
                    "style": {
                      "height": "88px",
                      "display": "inline-block",
                      "width": "2px",
                      "borderTop": "2px solid black"
                    }
                  },
                  "children": null
                },
                {
                  "tagName": "div",
                  "attributes": {
                    "style": {
                      "height": "90px",
                      "display": "inline-block",
                      "width": "2px",
                      "borderTop": "2px solid black"
                    }
                  },
                  "children": null
                },
                {
                  "tagName": "div",
                  "attributes": {
                    "style": {
                      "height": "94px",
                      "display": "inline-block",
                      "width": "2px",
                      "borderTop": "2px solid black"
                    }
                  },
                  "children": null
                },
                {
                  "tagName": "div",
                  "attributes": {
                    "style": {
                      "height": "94px",
                      "display": "inline-block",
                      "width": "2px",
                      "borderTop": "2px solid black"
                    }
                  },
                  "children": null
                },
                {
                  "tagName": "div",
                  "attributes": {
                    "style": {
                      "height": "92px",
                      "display": "inline-block",
                      "width": "2px",
                      "borderTop": "2px solid black"
                    }
                  },
                  "children": null
                },
                {
                  "tagName": "div",
                  "attributes": {
                    "style": {
                      "height": "90px",
                      "display": "inline-block",
                      "width": "2px",
                      "borderTop": "2px solid black"
                    }
                  },
                  "children": null
                },
                {
                  "tagName": "div",
                  "attributes": {
                    "style": {
                      "height": "90px",
                      "display": "inline-block",
                      "width": "2px",
                      "borderTop": "2px solid black"
                    }
                  },
                  "children": null
                },
                {
                  "tagName": "div",
                  "attributes": {
                    "style": {
                      "height": "90px",
                      "display": "inline-block",
                      "width": "2px",
                      "borderTop": "2px solid black"
                    }
                  },
                  "children": null
                },
                {
                  "tagName": "div",
                  "attributes": {
                    "style": {
                      "height": "92px",
                      "display": "inline-block",
                      "width": "2px",
                      "borderTop": "2px solid black"
                    }
                  },
                  "children": null
                },
                {
                  "tagName": "div",
                  "attributes": {
                    "style": {
                      "height": "92px",
                      "display": "inline-block",
                      "width": "2px",
                      "borderTop": "2px solid black"
                    }
                  },
                  "children": null
                },
                {
                  "tagName": "div",
                  "attributes": {
                    "style": {
                      "height": "94px",
                      "display": "inline-block",
                      "width": "2px",
                      "borderTop": "2px solid black"
                    }
                  },
                  "children": null
                },
                {
                  "tagName": "div",
                  "attributes": {
                    "style": {
                      "height": "96px",
                      "display": "inline-block",
                      "width": "2px",
                      "borderTop": "2px solid black"
                    }
                  },
                  "children": null
                },
                {
                  "tagName": "div",
                  "attributes": {
                    "style": {
                      "height": "100px",
                      "display": "inline-block",
                      "width": "2px",
                      "borderTop": "2px solid black"
                    }
                  },
                  "children": null
                },
                {
                  "tagName": "div",
                  "attributes": {
                    "style": {
                      "height": "98px",
                      "display": "inline-block",
                      "width": "2px",
                      "borderTop": "2px solid black"
                    }
                  },
                  "children": null
                },
                {
                  "tagName": "div",
                  "attributes": {
                    "style": {
                      "height": "98px",
                      "display": "inline-block",
                      "width": "2px",
                      "borderTop": "2px solid black"
                    }
                  },
                  "children": null
                },
                {
                  "tagName": "div",
                  "attributes": {
                    "style": {
                      "height": "100px",
                      "display": "inline-block",
                      "width": "2px",
                      "borderTop": "2px solid black"
                    }
                  },
                  "children": null
                },
                {
                  "tagName": "div",
                  "attributes": {
                    "style": {
                      "height": "96px",
                      "display": "inline-block",
                      "width": "2px",
                      "borderTop": "2px solid black"
                    }
                  },
                  "children": null
                },
                {
                  "tagName": "div",
                  "attributes": {
                    "style": {
                      "height": "98px",
                      "display": "inline-block",
                      "width": "2px",
                      "borderTop": "2px solid black"
                    }
                  },
                  "children": null
                },
                {
                  "tagName": "div",
                  "attributes": {
                    "style": {
                      "height": "100px",
                      "display": "inline-block",
                      "width": "2px",
                      "borderTop": "2px solid black"
                    }
                  },
                  "children": null
                },
                {
                  "tagName": "div",
                  "attributes": {
                    "style": {
                      "height": "98px",
                      "display": "inline-block",
                      "width": "2px",
                      "borderTop": "2px solid black"
                    }
                  },
                  "children": null
                },
                {
                  "tagName": "div",
                  "attributes": {
                    "style": {
                      "height": "100px",
                      "display": "inline-block",
                      "width": "2px",
                      "borderTop": "2px solid black"
                    }
                  },
                  "children": null
                },
                {
                  "tagName": "div",
                  "attributes": {
                    "style": {
                      "height": "98px",
                      "display": "inline-block",
                      "width": "2px",
                      "borderTop": "2px solid black"
                    }
                  },
                  "children": null
                },
                {
                  "tagName": "div",
                  "attributes": {
                    "style": {
                      "height": "100px",
                      "display": "inline-block",
                      "width": "2px",
                      "borderTop": "2px solid black"
                    }
                  },
                  "children": null
                },
                {
                  "tagName": "div",
                  "attributes": {
                    "style": {
                      "height": "98px",
                      "display": "inline-block",
                      "width": "2px",
                      "borderTop": "2px solid black"
                    }
                  },
                  "children": null
                },
                {
                  "tagName": "div",
                  "attributes": {
                    "style": {
                      "height": "98px",
                      "display": "inline-block",
                      "width": "2px",
                      "borderTop": "2px solid black"
                    }
                  },
                  "children": null
                },
                {
                  "tagName": "div",
                  "attributes": {
                    "style": {
                      "height": "96px",
                      "display": "inline-block",
                      "width": "2px",
                      "borderTop": "2px solid black"
                    }
                  },
                  "children": null
                },
                {
                  "tagName": "div",
                  "attributes": {
                    "style": {
                      "height": "100px",
                      "display": "inline-block",
                      "width": "2px",
                      "borderTop": "2px solid black"
                    }
                  },
                  "children": null
                },
                {
                  "tagName": "div",
                  "attributes": {
                    "style": {
                      "height": "98px",
                      "display": "inline-block",
                      "width": "2px",
                      "borderTop": "2px solid black"
                    }
                  },
                  "children": null
                },
                {
                  "tagName": "div",
                  "attributes": {
                    "style": {
                      "height": "98px",
                      "display": "inline-block",
                      "width": "2px",
                      "borderTop": "2px solid black"
                    }
                  },
                  "children": null
                },
                {
                  "tagName": "div",
                  "attributes": {
                    "style": {
                      "height": "98px",
                      "display": "inline-block",
                      "width": "2px",
                      "borderTop": "2px solid black"
                    }
                  },
                  "children": null
                },
                {
                  "tagName": "div",
                  "attributes": {
                    "style": {
                      "height": "100px",
                      "display": "inline-block",
                      "width": "2px",
                      "borderTop": "2px solid black"
                    }
                  },
                  "children": null
                },
                {
                  "tagName": "div",
                  "attributes": {
                    "style": {
                      "height": "100px",
                      "display": "inline-block",
                      "width": "2px",
                      "borderTop": "2px solid black"
                    }
                  },
                  "children": null
                },
                {
                  "tagName": "div",
                  "attributes": {
                    "style": {
                      "height": "96px",
                      "display": "inline-block",
                      "width": "2px",
                      "borderTop": "2px solid black"
                    }
                  },
                  "children": null
                },
                {
                  "tagName": "div",
                  "attributes": {
                    "style": {
                      "height": "98px",
                      "display": "inline-block",
                      "width": "2px",
                      "borderTop": "2px solid black"
                    }
                  },
                  "children": null
                },
                {
                  "tagName": "div",
                  "attributes": {
                    "style": {
                      "height": "100px",
                      "display": "inline-block",
                      "width": "2px",
                      "borderTop": "2px solid black"
                    }
                  },
                  "children": null
                },
                {
                  "tagName": "div",
                  "attributes": {
                    "style": {
                      "height": "100px",
                      "display": "inline-block",
                      "width": "2px",
                      "borderTop": "2px solid black"
                    }
                  },
                  "children": null
                },
                {
                  "tagName": "div",
                  "attributes": {
                    "style": {
                      "height": "98px",
                      "display": "inline-block",
                      "width": "2px",
                      "borderTop": "2px solid black"
                    }
                  },
                  "children": null
                },
                {
                  "tagName": "div",
                  "attributes": {
                    "style": {
                      "height": "94px",
                      "display": "inline-block",
                      "width": "2px",
                      "borderTop": "2px solid black"
                    }
                  },
                  "children": null
                },
                {
                  "tagName": "div",
                  "attributes": {
                    "style": {
                      "height": "98px",
                      "display": "inline-block",
                      "width": "2px",
                      "borderTop": "2px solid black"
                    }
                  },
                  "children": null
                },
                {
                  "tagName": "div",
                  "attributes": {
                    "style": {
                      "height": "96px",
                      "display": "inline-block",
                      "width": "2px",
                      "borderTop": "2px solid black"
                    }
                  },
                  "children": null
                },
                {
                  "tagName": "div",
                  "attributes": {
                    "style": {
                      "height": "100px",
                      "display": "inline-block",
                      "width": "2px",
                      "borderTop": "2px solid black"
                    }
                  },
                  "children": null
                },
                {
                  "tagName": "div",
                  "attributes": {
                    "style": {
                      "height": "96px",
                      "display": "inline-block",
                      "width": "2px",
                      "borderTop": "2px solid black"
                    }
                  },
                  "children": null
                },
                {
                  "tagName": "div",
                  "attributes": {
                    "style": {
                      "height": "98px",
                      "display": "inline-block",
                      "width": "2px",
                      "borderTop": "2px solid black"
                    }
                  },
                  "children": null
                },
                {
                  "tagName": "div",
                  "attributes": {
                    "style": {
                      "height": "94px",
                      "display": "inline-block",
                      "width": "2px",
                      "borderTop": "2px solid black"
                    }
                  },
                  "children": null
                },
                {
                  "tagName": "div",
                  "attributes": {
                    "style": {
                      "height": "96px",
                      "display": "inline-block",
                      "width": "2px",
                      "borderTop": "2px solid black"
                    }
                  },
                  "children": null
                },
                {
                  "tagName": "div",
                  "attributes": {
                    "style": {
                      "height": "92px",
                      "display": "inline-block",
                      "width": "2px",
                      "borderTop": "2px solid black"
                    }
                  },
                  "children": null
                },
                {
                  "tagName": "div",
                  "attributes": {
                    "style": {
                      "height": "88px",
                      "display": "inline-block",
                      "width": "2px",
                      "borderTop": "2px solid black"
                    }
                  },
                  "children": null
                },
                {
                  "tagName": "div",
                  "attributes": {
                    "style": {
                      "height": "90px",
                      "display": "inline-block",
                      "width": "2px",
                      "borderTop": "2px solid black"
                    }
                  },
                  "children": null
                },
                {
                  "tagName": "div",
                  "attributes": {
                    "style": {
                      "height": "88px",
                      "display": "inline-block",
                      "width": "2px",
                      "borderTop": "2px solid black"
                    }
                  },
                  "children": null
                },
                {
                  "tagName": "div",
                  "attributes": {
                    "style": {
                      "height": "86px",
                      "display": "inline-block",
                      "width": "2px",
                      "borderTop": "2px solid black"
                    }
                  },
                  "children": null
                },
                {
                  "tagName": "div",
                  "attributes": {
                    "style": {
                      "height": "86px",
                      "display": "inline-block",
                      "width": "2px",
                      "borderTop": "2px solid black"
                    }
                  },
                  "children": null
                },
                {
                  "tagName": "div",
                  "attributes": {
                    "style": {
                      "height": "84px",
                      "display": "inline-block",
                      "width": "2px",
                      "borderTop": "2px solid black"
                    }
                  },
                  "children": null
                },
                {
                  "tagName": "div",
                  "attributes": {
                    "style": {
                      "height": "80px",
                      "display": "inline-block",
                      "width": "2px",
                      "borderTop": "2px solid black"
                    }
                  },
                  "children": null
                },
                {
                  "tagName": "div",
                  "attributes": {
                    "style": {
                      "height": "82px",
                      "display": "inline-block",
                      "width": "2px",
                      "borderTop": "2px solid black"
                    }
                  },
                  "children": null
                },
                {
                  "tagName": "div",
                  "attributes": {
                    "style": {
                      "height": "86px",
                      "display": "inline-block",
                      "width": "2px",
                      "borderTop": "2px solid black"
                    }
                  },
                  "children": null
                },
                {
                  "tagName": "div",
                  "attributes": {
                    "style": {
                      "height": "82px",
                      "display": "inline-block",
                      "width": "2px",
                      "borderTop": "2px solid black"
                    }
                  },
                  "children": null
                },
                {
                  "tagName": "div",
                  "attributes": {
                    "style": {
                      "height": "86px",
                      "display": "inline-block",
                      "width": "2px",
                      "borderTop": "2px solid black"
                    }
                  },
                  "children": null
                },
                {
                  "tagName": "div",
                  "attributes": {
                    "style": {
                      "height": "88px",
                      "display": "inline-block",
                      "width": "2px",
                      "borderTop": "2px solid black"
                    }
                  },
                  "children": null
                },
                {
                  "tagName": "div",
                  "attributes": {
                    "style": {
                      "height": "84px",
                      "display": "inline-block",
                      "width": "2px",
                      "borderTop": "2px solid black"
                    }
                  },
                  "children": null
                },
                {
                  "tagName": "div",
                  "attributes": {
                    "style": {
                      "height": "88px",
                      "display": "inline-block",
                      "width": "2px",
                      "borderTop": "2px solid black"
                    }
                  },
                  "children": null
                },
                {
                  "tagName": "div",
                  "attributes": {
                    "style": {
                      "height": "92px",
                      "display": "inline-block",
                      "width": "2px",
                      "borderTop": "2px solid black"
                    }
                  },
                  "children": null
                },
                {
                  "tagName": "div",
                  "attributes": {
                    "style": {
                      "height": "88px",
                      "display": "inline-block",
                      "width": "2px",
                      "borderTop": "2px solid black"
                    }
                  },
                  "children": null
                },
                {
                  "tagName": "div",
                  "attributes": {
                    "style": {
                      "height": "88px",
                      "display": "inline-block",
                      "width": "2px",
                      "borderTop": "2px solid black"
                    }
                  },
                  "children": null
                },
                {
                  "tagName": "div",
                  "attributes": {
                    "style": {
                      "height": "84px",
                      "display": "inline-block",
                      "width": "2px",
                      "borderTop": "2px solid black"
                    }
                  },
                  "children": null
                },
                {
                  "tagName": "div",
                  "attributes": {
                    "style": {
                      "height": "88px",
                      "display": "inline-block",
                      "width": "2px",
                      "borderTop": "2px solid black"
                    }
                  },
                  "children": null
                },
                {
                  "tagName": "div",
                  "attributes": {
                    "style": {
                      "height": "84px",
                      "display": "inline-block",
                      "width": "2px",
                      "borderTop": "2px solid black"
                    }
                  },
                  "children": null
                },
                {
                  "tagName": "div",
                  "attributes": {
                    "style": {
                      "height": "82px",
                      "display": "inline-block",
                      "width": "2px",
                      "borderTop": "2px solid black"
                    }
                  },
                  "children": null
                },
                {
                  "tagName": "div",
                  "attributes": {
                    "style": {
                      "height": "84px",
                      "display": "inline-block",
                      "width": "2px",
                      "borderTop": "2px solid black"
                    }
                  },
                  "children": null
                },
                {
                  "tagName": "div",
                  "attributes": {
                    "style": {
                      "height": "84px",
                      "display": "inline-block",
                      "width": "2px",
                      "borderTop": "2px solid black"
                    }
                  },
                  "children": null
                },
                {
                  "tagName": "div",
                  "attributes": {
                    "style": {
                      "height": "86px",
                      "display": "inline-block",
                      "width": "2px",
                      "borderTop": "2px solid black"
                    }
                  },
                  "children": null
                },
                {
                  "tagName": "div",
                  "attributes": {
                    "style": {
                      "height": "86px",
                      "display": "inline-block",
                      "width": "2px",
                      "borderTop": "2px solid black"
                    }
                  },
                  "children": null
                },
                {
                  "tagName": "div",
                  "attributes": {
                    "style": {
                      "height": "86px",
                      "display": "inline-block",
                      "width": "2px",
                      "borderTop": "2px solid black"
                    }
                  },
                  "children": null
                },
                {
                  "tagName": "div",
                  "attributes": {
                    "style": {
                      "height": "90px",
                      "display": "inline-block",
                      "width": "2px",
                      "borderTop": "2px solid black"
                    }
                  },
                  "children": null
                },
                {
                  "tagName": "div",
                  "attributes": {
                    "style": {
                      "height": "88px",
                      "display": "inline-block",
                      "width": "2px",
                      "borderTop": "2px solid black"
                    }
                  },
                  "children": null
                },
                {
                  "tagName": "div",
                  "attributes": {
                    "style": {
                      "height": "92px",
                      "display": "inline-block",
                      "width": "2px",
                      "borderTop": "2px solid black"
                    }
                  },
                  "children": null
                },
                {
                  "tagName": "div",
                  "attributes": {
                    "style": {
                      "height": "92px",
                      "display": "inline-block",
                      "width": "2px",
                      "borderTop": "2px solid black"
                    }
                  },
                  "children": null
                },
                {
                  "tagName": "div",
                  "attributes": {
                    "style": {
                      "height": "92px",
                      "display": "inline-block",
                      "width": "2px",
                      "borderTop": "2px solid black"
                    }
                  },
                  "children": null
                },
                {
                  "tagName": "div",
                  "attributes": {
                    "style": {
                      "height": "90px",
                      "display": "inline-block",
                      "width": "2px",
                      "borderTop": "2px solid black"
                    }
                  },
                  "children": null
                },
                {
                  "tagName": "div",
                  "attributes": {
                    "style": {
                      "height": "92px",
                      "display": "inline-block",
                      "width": "2px",
                      "borderTop": "2px solid black"
                    }
                  },
                  "children": null
                },
                {
                  "tagName": "div",
                  "attributes": {
                    "style": {
                      "height": "92px",
                      "display": "inline-block",
                      "width": "2px",
                      "borderTop": "2px solid black"
                    }
                  },
                  "children": null
                },
                {
                  "tagName": "div",
                  "attributes": {
                    "style": {
                      "height": "88px",
                      "display": "inline-block",
                      "width": "2px",
                      "borderTop": "2px solid black"
                    }
                  },
                  "children": null
                },
                {
                  "tagName": "div",
                  "attributes": {
                    "style": {
                      "height": "90px",
                      "display": "inline-block",
                      "width": "2px",
                      "borderTop": "2px solid black"
                    }
                  },
                  "children": null
                },
                {
                  "tagName": "div",
                  "attributes": {
                    "style": {
                      "height": "94px",
                      "display": "inline-block",
                      "width": "2px",
                      "borderTop": "2px solid black"
                    }
                  },
                  "children": null
                },
                {
                  "tagName": "div",
                  "attributes": {
                    "style": {
                      "height": "96px",
                      "display": "inline-block",
                      "width": "2px",
                      "borderTop": "2px solid black"
                    }
                  },
                  "children": null
                },
                {
                  "tagName": "div",
                  "attributes": {
                    "style": {
                      "height": "92px",
                      "display": "inline-block",
                      "width": "2px",
                      "borderTop": "2px solid black"
                    }
                  },
                  "children": null
                },
                {
                  "tagName": "div",
                  "attributes": {
                    "style": {
                      "height": "94px",
                      "display": "inline-block",
                      "width": "2px",
                      "borderTop": "2px solid black"
                    }
                  },
                  "children": null
                },
                {
                  "tagName": "div",
                  "attributes": {
                    "style": {
                      "height": "90px",
                      "display": "inline-block",
                      "width": "2px",
                      "borderTop": "2px solid black"
                    }
                  },
                  "children": null
                },
                {
                  "tagName": "div",
                  "attributes": {
                    "style": {
                      "height": "90px",
                      "display": "inline-block",
                      "width": "2px",
                      "borderTop": "2px solid black"
                    }
                  },
                  "children": null
                },
                {
                  "tagName": "div",
                  "attributes": {
                    "style": {
                      "height": "86px",
                      "display": "inline-block",
                      "width": "2px",
                      "borderTop": "2px solid black"
                    }
                  },
                  "children": null
                },
                {
                  "tagName": "div",
                  "attributes": {
                    "style": {
                      "height": "86px",
                      "display": "inline-block",
                      "width": "2px",
                      "borderTop": "2px solid black"
                    }
                  },
                  "children": null
                },
                {
                  "tagName": "div",
                  "attributes": {
                    "style": {
                      "height": "86px",
                      "display": "inline-block",
                      "width": "2px",
                      "borderTop": "2px solid black"
                    }
                  },
                  "children": null
                },
                {
                  "tagName": "div",
                  "attributes": {
                    "style": {
                      "height": "82px",
                      "display": "inline-block",
                      "width": "2px",
                      "borderTop": "2px solid black"
                    }
                  },
                  "children": null
                },
                {
                  "tagName": "div",
                  "attributes": {
                    "style": {
                      "height": "86px",
                      "display": "inline-block",
                      "width": "2px",
                      "borderTop": "2px solid black"
                    }
                  },
                  "children": null
                },
                {
                  "tagName": "div",
                  "attributes": {
                    "style": {
                      "height": "90px",
                      "display": "inline-block",
                      "width": "2px",
                      "borderTop": "2px solid black"
                    }
                  },
                  "children": null
                },
                {
                  "tagName": "div",
                  "attributes": {
                    "style": {
                      "height": "92px",
                      "display": "inline-block",
                      "width": "2px",
                      "borderTop": "2px solid black"
                    }
                  },
                  "children": null
                },
                {
                  "tagName": "div",
                  "attributes": {
                    "style": {
                      "height": "90px",
                      "display": "inline-block",
                      "width": "2px",
                      "borderTop": "2px solid black"
                    }
                  },
                  "children": null
                },
                {
                  "tagName": "div",
                  "attributes": {
                    "style": {
                      "height": "88px",
                      "display": "inline-block",
                      "width": "2px",
                      "borderTop": "2px solid black"
                    }
                  },
                  "children": null
                },
                {
                  "tagName": "div",
                  "attributes": {
                    "style": {
                      "height": "88px",
                      "display": "inline-block",
                      "width": "2px",
                      "borderTop": "2px solid black"
                    }
                  },
                  "children": null
                },
                {
                  "tagName": "div",
                  "attributes": {
                    "style": {
                      "height": "84px",
                      "display": "inline-block",
                      "width": "2px",
                      "borderTop": "2px solid black"
                    }
                  },
                  "children": null
                },
                {
                  "tagName": "div",
                  "attributes": {
                    "style": {
                      "height": "84px",
                      "display": "inline-block",
                      "width": "2px",
                      "borderTop": "2px solid black"
                    }
                  },
                  "children": null
                },
                {
                  "tagName": "div",
                  "attributes": {
                    "style": {
                      "height": "84px",
                      "display": "inline-block",
                      "width": "2px",
                      "borderTop": "2px solid black"
                    }
                  },
                  "children": null
                },
                {
                  "tagName": "div",
                  "attributes": {
                    "style": {
                      "height": "88px",
                      "display": "inline-block",
                      "width": "2px",
                      "borderTop": "2px solid black"
                    }
                  },
                  "children": null
                },
                {
                  "tagName": "div",
                  "attributes": {
                    "style": {
                      "height": "90px",
                      "display": "inline-block",
                      "width": "2px",
                      "borderTop": "2px solid black"
                    }
                  },
                  "children": null
                },
                {
                  "tagName": "div",
                  "attributes": {
                    "style": {
                      "height": "88px",
                      "display": "inline-block",
                      "width": "2px",
                      "borderTop": "2px solid black"
                    }
                  },
                  "children": null
                },
                {
                  "tagName": "div",
                  "attributes": {
                    "style": {
                      "height": "84px",
                      "display": "inline-block",
                      "width": "2px",
                      "borderTop": "2px solid black"
                    }
                  },
                  "children": null
                },
                {
                  "tagName": "div",
                  "attributes": {
                    "style": {
                      "height": "88px",
                      "display": "inline-block",
                      "width": "2px",
                      "borderTop": "2px solid black"
                    }
                  },
                  "children": null
                },
                {
                  "tagName": "div",
                  "attributes": {
                    "style": {
                      "height": "86px",
                      "display": "inline-block",
                      "width": "2px",
                      "borderTop": "2px solid black"
                    }
                  },
                  "children": null
                },
                {
                  "tagName": "div",
                  "attributes": {
                    "style": {
                      "height": "84px",
                      "display": "inline-block",
                      "width": "2px",
                      "borderTop": "2px solid black"
                    }
                  },
                  "children": null
                },
                {
                  "tagName": "div",
                  "attributes": {
                    "style": {
                      "height": "86px",
                      "display": "inline-block",
                      "width": "2px",
                      "borderTop": "2px solid black"
                    }
                  },
                  "children": null
                },
                {
                  "tagName": "div",
                  "attributes": {
                    "style": {
                      "height": "84px",
                      "display": "inline-block",
                      "width": "2px",
                      "borderTop": "2px solid black"
                    }
                  },
                  "children": null
                },
                {
                  "tagName": "div",
                  "attributes": {
                    "style": {
                      "height": "82px",
                      "display": "inline-block",
                      "width": "2px",
                      "borderTop": "2px solid black"
                    }
                  },
                  "children": null
                },
                {
                  "tagName": "div",
                  "attributes": {
                    "style": {
                      "height": "78px",
                      "display": "inline-block",
                      "width": "2px",
                      "borderTop": "2px solid black"
                    }
                  },
                  "children": null
                },
                {
                  "tagName": "div",
                  "attributes": {
                    "style": {
                      "height": "82px",
                      "display": "inline-block",
                      "width": "2px",
                      "borderTop": "2px solid black"
                    }
                  },
                  "children": null
                },
                {
                  "tagName": "div",
                  "attributes": {
                    "style": {
                      "height": "84px",
                      "display": "inline-block",
                      "width": "2px",
                      "borderTop": "2px solid black"
                    }
                  },
                  "children": null
                },
                {
                  "tagName": "div",
                  "attributes": {
                    "style": {
                      "height": "84px",
                      "display": "inline-block",
                      "width": "2px",
                      "borderTop": "2px solid black"
                    }
                  },
                  "children": null
                },
                {
                  "tagName": "div",
                  "attributes": {
                    "style": {
                      "height": "80px",
                      "display": "inline-block",
                      "width": "2px",
                      "borderTop": "2px solid black"
                    }
                  },
                  "children": null
                },
                {
                  "tagName": "div",
                  "attributes": {
                    "style": {
                      "height": "78px",
                      "display": "inline-block",
                      "width": "2px",
                      "borderTop": "2px solid black"
                    }
                  },
                  "children": null
                },
                {
                  "tagName": "div",
                  "attributes": {
                    "style": {
                      "height": "76px",
                      "display": "inline-block",
                      "width": "2px",
                      "borderTop": "2px solid black"
                    }
                  },
                  "children": null
                },
                {
                  "tagName": "div",
                  "attributes": {
                    "style": {
                      "height": "80px",
                      "display": "inline-block",
                      "width": "2px",
                      "borderTop": "2px solid black"
                    }
                  },
                  "children": null
                },
                {
                  "tagName": "div",
                  "attributes": {
                    "style": {
                      "height": "78px",
                      "display": "inline-block",
                      "width": "2px",
                      "borderTop": "2px solid black"
                    }
                  },
                  "children": null
                },
                {
                  "tagName": "div",
                  "attributes": {
                    "style": {
                      "height": "74px",
                      "display": "inline-block",
                      "width": "2px",
                      "borderTop": "2px solid black"
                    }
                  },
                  "children": null
                },
                {
                  "tagName": "div",
                  "attributes": {
                    "style": {
                      "height": "74px",
                      "display": "inline-block",
                      "width": "2px",
                      "borderTop": "2px solid black"
                    }
                  },
                  "children": null
                },
                {
                  "tagName": "div",
                  "attributes": {
                    "style": {
                      "height": "74px",
                      "display": "inline-block",
                      "width": "2px",
                      "borderTop": "2px solid black"
                    }
                  },
                  "children": null
                },
                {
                  "tagName": "div",
                  "attributes": {
                    "style": {
                      "height": "74px",
                      "display": "inline-block",
                      "width": "2px",
                      "borderTop": "2px solid black"
                    }
                  },
                  "children": null
                },
                {
                  "tagName": "div",
                  "attributes": {
                    "style": {
                      "height": "78px",
                      "display": "inline-block",
                      "width": "2px",
                      "borderTop": "2px solid black"
                    }
                  },
                  "children": null
                },
                {
                  "tagName": "div",
                  "attributes": {
                    "style": {
                      "height": "76px",
                      "display": "inline-block",
                      "width": "2px",
                      "borderTop": "2px solid black"
                    }
                  },
                  "children": null
                },
                {
                  "tagName": "div",
                  "attributes": {
                    "style": {
                      "height": "78px",
                      "display": "inline-block",
                      "width": "2px",
                      "borderTop": "2px solid black"
                    }
                  },
                  "children": null
                },
                {
                  "tagName": "div",
                  "attributes": {
                    "style": {
                      "height": "74px",
                      "display": "inline-block",
                      "width": "2px",
                      "borderTop": "2px solid black"
                    }
                  },
                  "children": null
                },
                {
                  "tagName": "div",
                  "attributes": {
                    "style": {
                      "height": "70px",
                      "display": "inline-block",
                      "width": "2px",
                      "borderTop": "2px solid black"
                    }
                  },
                  "children": null
                },
                {
                  "tagName": "div",
                  "attributes": {
                    "style": {
                      "height": "70px",
                      "display": "inline-block",
                      "width": "2px",
                      "borderTop": "2px solid black"
                    }
                  },
                  "children": null
                },
                {
                  "tagName": "div",
                  "attributes": {
                    "style": {
                      "height": "72px",
                      "display": "inline-block",
                      "width": "2px",
                      "borderTop": "2px solid black"
                    }
                  },
                  "children": null
                },
                {
                  "tagName": "div",
                  "attributes": {
                    "style": {
                      "height": "76px",
                      "display": "inline-block",
                      "width": "2px",
                      "borderTop": "2px solid black"
                    }
                  },
                  "children": null
                },
                {
                  "tagName": "div",
                  "attributes": {
                    "style": {
                      "height": "72px",
                      "display": "inline-block",
                      "width": "2px",
                      "borderTop": "2px solid black"
                    }
                  },
                  "children": null
                },
                {
                  "tagName": "div",
                  "attributes": {
                    "style": {
                      "height": "72px",
                      "display": "inline-block",
                      "width": "2px",
                      "borderTop": "2px solid black"
                    }
                  },
                  "children": null
                },
                {
                  "tagName": "div",
                  "attributes": {
                    "style": {
                      "height": "70px",
                      "display": "inline-block",
                      "width": "2px",
                      "borderTop": "2px solid black"
                    }
                  },
                  "children": null
                },
                {
                  "tagName": "div",
                  "attributes": {
                    "style": {
                      "height": "74px",
                      "display": "inline-block",
                      "width": "2px",
                      "borderTop": "2px solid black"
                    }
                  },
                  "children": null
                },
                {
                  "tagName": "div",
                  "attributes": {
                    "style": {
                      "height": "70px",
                      "display": "inline-block",
                      "width": "2px",
                      "borderTop": "2px solid black"
                    }
                  },
                  "children": null
                },
                {
                  "tagName": "div",
                  "attributes": {
                    "style": {
                      "height": "72px",
                      "display": "inline-block",
                      "width": "2px",
                      "borderTop": "2px solid black"
                    }
                  },
                  "children": null
                },
                {
                  "tagName": "div",
                  "attributes": {
                    "style": {
                      "height": "76px",
                      "display": "inline-block",
                      "width": "2px",
                      "borderTop": "2px solid black"
                    }
                  },
                  "children": null
                },
                {
                  "tagName": "div",
                  "attributes": {
                    "style": {
                      "height": "76px",
                      "display": "inline-block",
                      "width": "2px",
                      "borderTop": "2px solid black"
                    }
                  },
                  "children": null
                },
                {
                  "tagName": "div",
                  "attributes": {
                    "style": {
                      "height": "72px",
                      "display": "inline-block",
                      "width": "2px",
                      "borderTop": "2px solid black"
                    }
                  },
                  "children": null
                },
                {
                  "tagName": "div",
                  "attributes": {
                    "style": {
                      "height": "70px",
                      "display": "inline-block",
                      "width": "2px",
                      "borderTop": "2px solid black"
                    }
                  },
                  "children": null
                },
                {
                  "tagName": "div",
                  "attributes": {
                    "style": {
                      "height": "72px",
                      "display": "inline-block",
                      "width": "2px",
                      "borderTop": "2px solid black"
                    }
                  },
                  "children": null
                },
                {
                  "tagName": "div",
                  "attributes": {
                    "style": {
                      "height": "72px",
                      "display": "inline-block",
                      "width": "2px",
                      "borderTop": "2px solid black"
                    }
                  },
                  "children": null
                },
                {
                  "tagName": "div",
                  "attributes": {
                    "style": {
                      "height": "74px",
                      "display": "inline-block",
                      "width": "2px",
                      "borderTop": "2px solid black"
                    }
                  },
                  "children": null
                },
                {
                  "tagName": "div",
                  "attributes": {
                    "style": {
                      "height": "74px",
                      "display": "inline-block",
                      "width": "2px",
                      "borderTop": "2px solid black"
                    }
                  },
                  "children": null
                },
                {
                  "tagName": "div",
                  "attributes": {
                    "style": {
                      "height": "78px",
                      "display": "inline-block",
                      "width": "2px",
                      "borderTop": "2px solid black"
                    }
                  },
                  "children": null
                },
                {
                  "tagName": "div",
                  "attributes": {
                    "style": {
                      "height": "74px",
                      "display": "inline-block",
                      "width": "2px",
                      "borderTop": "2px solid black"
                    }
                  },
                  "children": null
                },
                {
                  "tagName": "div",
                  "attributes": {
                    "style": {
                      "height": "72px",
                      "display": "inline-block",
                      "width": "2px",
                      "borderTop": "2px solid black"
                    }
                  },
                  "children": null
                },
                {
                  "tagName": "div",
                  "attributes": {
                    "style": {
                      "height": "72px",
                      "display": "inline-block",
                      "width": "2px",
                      "borderTop": "2px solid black"
                    }
                  },
                  "children": null
                },
                {
                  "tagName": "div",
                  "attributes": {
                    "style": {
                      "height": "68px",
                      "display": "inline-block",
                      "width": "2px",
                      "borderTop": "2px solid black"
                    }
                  },
                  "children": null
                },
                {
                  "tagName": "div",
                  "attributes": {
                    "style": {
                      "height": "72px",
                      "display": "inline-block",
                      "width": "2px",
                      "borderTop": "2px solid black"
                    }
                  },
                  "children": null
                },
                {
                  "tagName": "div",
                  "attributes": {
                    "style": {
                      "height": "70px",
                      "display": "inline-block",
                      "width": "2px",
                      "borderTop": "2px solid black"
                    }
                  },
                  "children": null
                },
                {
                  "tagName": "div",
                  "attributes": {
                    "style": {
                      "height": "66px",
                      "display": "inline-block",
                      "width": "2px",
                      "borderTop": "2px solid black"
                    }
                  },
                  "children": null
                },
                {
                  "tagName": "div",
                  "attributes": {
                    "style": {
                      "height": "62px",
                      "display": "inline-block",
                      "width": "2px",
                      "borderTop": "2px solid black"
                    }
                  },
                  "children": null
                },
                {
                  "tagName": "div",
                  "attributes": {
                    "style": {
                      "height": "66px",
                      "display": "inline-block",
                      "width": "2px",
                      "borderTop": "2px solid black"
                    }
                  },
                  "children": null
                },
                {
                  "tagName": "div",
                  "attributes": {
                    "style": {
                      "height": "70px",
                      "display": "inline-block",
                      "width": "2px",
                      "borderTop": "2px solid black"
                    }
                  },
                  "children": null
                },
                {
                  "tagName": "div",
                  "attributes": {
                    "style": {
                      "height": "68px",
                      "display": "inline-block",
                      "width": "2px",
                      "borderTop": "2px solid black"
                    }
                  },
                  "children": null
                },
                {
                  "tagName": "div",
                  "attributes": {
                    "style": {
                      "height": "70px",
                      "display": "inline-block",
                      "width": "2px",
                      "borderTop": "2px solid black"
                    }
                  },
                  "children": null
                },
                {
                  "tagName": "div",
                  "attributes": {
                    "style": {
                      "height": "66px",
                      "display": "inline-block",
                      "width": "2px",
                      "borderTop": "2px solid black"
                    }
                  },
                  "children": null
                },
                {
                  "tagName": "div",
                  "attributes": {
                    "style": {
                      "height": "64px",
                      "display": "inline-block",
                      "width": "2px",
                      "borderTop": "2px solid black"
                    }
                  },
                  "children": null
                },
                {
                  "tagName": "div",
                  "attributes": {
                    "style": {
                      "height": "62px",
                      "display": "inline-block",
                      "width": "2px",
                      "borderTop": "2px solid black"
                    }
                  },
                  "children": null
                },
                {
                  "tagName": "div",
                  "attributes": {
                    "style": {
                      "height": "66px",
                      "display": "inline-block",
                      "width": "2px",
                      "borderTop": "2px solid black"
                    }
                  },
                  "children": null
                },
                {
                  "tagName": "div",
                  "attributes": {
                    "style": {
                      "height": "66px",
                      "display": "inline-block",
                      "width": "2px",
                      "borderTop": "2px solid black"
                    }
                  },
                  "children": null
                },
                {
                  "tagName": "div",
                  "attributes": {
                    "style": {
                      "height": "68px",
                      "display": "inline-block",
                      "width": "2px",
                      "borderTop": "2px solid black"
                    }
                  },
                  "children": null
                },
                {
                  "tagName": "div",
                  "attributes": {
                    "style": {
                      "height": "64px",
                      "display": "inline-block",
                      "width": "2px",
                      "borderTop": "2px solid black"
                    }
                  },
                  "children": null
                },
                {
                  "tagName": "div",
                  "attributes": {
                    "style": {
                      "height": "64px",
                      "display": "inline-block",
                      "width": "2px",
                      "borderTop": "2px solid black"
                    }
                  },
                  "children": null
                },
                {
                  "tagName": "div",
                  "attributes": {
                    "style": {
                      "height": "60px",
                      "display": "inline-block",
                      "width": "2px",
                      "borderTop": "2px solid black"
                    }
                  },
                  "children": null
                },
                {
                  "tagName": "div",
                  "attributes": {
                    "style": {
                      "height": "60px",
                      "display": "inline-block",
                      "width": "2px",
                      "borderTop": "2px solid black"
                    }
                  },
                  "children": null
                },
                {
                  "tagName": "div",
                  "attributes": {
                    "style": {
                      "height": "64px",
                      "display": "inline-block",
                      "width": "2px",
                      "borderTop": "2px solid black"
                    }
                  },
                  "children": null
                },
                {
                  "tagName": "div",
                  "attributes": {
                    "style": {
                      "height": "64px",
                      "display": "inline-block",
                      "width": "2px",
                      "borderTop": "2px solid black"
                    }
                  },
                  "children": null
                },
                {
                  "tagName": "div",
                  "attributes": {
                    "style": {
                      "height": "68px",
                      "display": "inline-block",
                      "width": "2px",
                      "borderTop": "2px solid black"
                    }
                  },
                  "children": null
                },
                {
                  "tagName": "div",
                  "attributes": {
                    "style": {
                      "height": "72px",
                      "display": "inline-block",
                      "width": "2px",
                      "borderTop": "2px solid black"
                    }
                  },
                  "children": null
                },
                {
                  "tagName": "div",
                  "attributes": {
                    "style": {
                      "height": "68px",
                      "display": "inline-block",
                      "width": "2px",
                      "borderTop": "2px solid black"
                    }
                  },
                  "children": null
                },
                {
                  "tagName": "div",
                  "attributes": {
                    "style": {
                      "height": "66px",
                      "display": "inline-block",
                      "width": "2px",
                      "borderTop": "2px solid black"
                    }
                  },
                  "children": null
                },
                {
                  "tagName": "div",
                  "attributes": {
                    "style": {
                      "height": "62px",
                      "display": "inline-block",
                      "width": "2px",
                      "borderTop": "2px solid black"
                    }
                  },
                  "children": null
                },
                {
                  "tagName": "div",
                  "attributes": {
                    "style": {
                      "height": "60px",
                      "display": "inline-block",
                      "width": "2px",
                      "borderTop": "2px solid black"
                    }
                  },
                  "children": null
                },
                {
                  "tagName": "div",
                  "attributes": {
                    "style": {
                      "height": "64px",
                      "display": "inline-block",
                      "width": "2px",
                      "borderTop": "2px solid black"
                    }
                  },
                  "children": null
                },
                {
                  "tagName": "div",
                  "attributes": {
                    "style": {
                      "height": "68px",
                      "display": "inline-block",
                      "width": "2px",
                      "borderTop": "2px solid black"
                    }
                  },
                  "children": null
                },
                {
                  "tagName": "div",
                  "attributes": {
                    "style": {
                      "height": "64px",
                      "display": "inline-block",
                      "width": "2px",
                      "borderTop": "2px solid black"
                    }
                  },
                  "children": null
                },
                {
                  "tagName": "div",
                  "attributes": {
                    "style": {
                      "height": "66px",
                      "display": "inline-block",
                      "width": "2px",
                      "borderTop": "2px solid black"
                    }
                  },
                  "children": null
                },
                {
                  "tagName": "div",
                  "attributes": {
                    "style": {
                      "height": "70px",
                      "display": "inline-block",
                      "width": "2px",
                      "borderTop": "2px solid black"
                    }
                  },
                  "children": null
                },
                {
                  "tagName": "div",
                  "attributes": {
                    "style": {
                      "height": "66px",
                      "display": "inline-block",
                      "width": "2px",
                      "borderTop": "2px solid black"
                    }
                  },
                  "children": null
                },
                {
                  "tagName": "div",
                  "attributes": {
                    "style": {
                      "height": "68px",
                      "display": "inline-block",
                      "width": "2px",
                      "borderTop": "2px solid black"
                    }
                  },
                  "children": null
                },
                {
                  "tagName": "div",
                  "attributes": {
                    "style": {
                      "height": "64px",
                      "display": "inline-block",
                      "width": "2px",
                      "borderTop": "2px solid black"
                    }
                  },
                  "children": null
                },
                {
                  "tagName": "div",
                  "attributes": {
                    "style": {
                      "height": "68px",
                      "display": "inline-block",
                      "width": "2px",
                      "borderTop": "2px solid black"
                    }
                  },
                  "children": null
                },
                {
                  "tagName": "div",
                  "attributes": {
                    "style": {
                      "height": "66px",
                      "display": "inline-block",
                      "width": "2px",
                      "borderTop": "2px solid black"
                    }
                  },
                  "children": null
                },
                {
                  "tagName": "div",
                  "attributes": {
                    "style": {
                      "height": "66px",
                      "display": "inline-block",
                      "width": "2px",
                      "borderTop": "2px solid black"
                    }
                  },
                  "children": null
                },
                {
                  "tagName": "div",
                  "attributes": {
                    "style": {
                      "height": "62px",
                      "display": "inline-block",
                      "width": "2px",
                      "borderTop": "2px solid black"
                    }
                  },
                  "children": null
                },
                {
                  "tagName": "div",
                  "attributes": {
                    "style": {
                      "height": "66px",
                      "display": "inline-block",
                      "width": "2px",
                      "borderTop": "2px solid black"
                    }
                  },
                  "children": null
                },
                {
                  "tagName": "div",
                  "attributes": {
                    "style": {
                      "height": "62px",
                      "display": "inline-block",
                      "width": "2px",
                      "borderTop": "2px solid black"
                    }
                  },
                  "children": null
                },
                {
                  "tagName": "div",
                  "attributes": {
                    "style": {
                      "height": "58px",
                      "display": "inline-block",
                      "width": "2px",
                      "borderTop": "2px solid black"
                    }
                  },
                  "children": null
                },
                {
                  "tagName": "div",
                  "attributes": {
                    "style": {
                      "height": "56px",
                      "display": "inline-block",
                      "width": "2px",
                      "borderTop": "2px solid black"
                    }
                  },
                  "children": null
                },
                {
                  "tagName": "div",
                  "attributes": {
                    "style": {
                      "height": "52px",
                      "display": "inline-block",
                      "width": "2px",
                      "borderTop": "2px solid black"
                    }
                  },
                  "children": null
                },
                {
                  "tagName": "div",
                  "attributes": {
                    "style": {
                      "height": "50px",
                      "display": "inline-block",
                      "width": "2px",
                      "borderTop": "2px solid black"
                    }
                  },
                  "children": null
                },
                {
                  "tagName": "div",
                  "attributes": {
                    "style": {
                      "height": "46px",
                      "display": "inline-block",
                      "width": "2px",
                      "borderTop": "2px solid black"
                    }
                  },
                  "children": null
                },
                {
                  "tagName": "div",
                  "attributes": {
                    "style": {
                      "height": "46px",
                      "display": "inline-block",
                      "width": "2px",
                      "borderTop": "2px solid black"
                    }
                  },
                  "children": null
                },
                {
                  "tagName": "div",
                  "attributes": {
                    "style": {
                      "height": "50px",
                      "display": "inline-block",
                      "width": "2px",
                      "borderTop": "2px solid black"
                    }
                  },
                  "children": null
                },
                {
                  "tagName": "div",
                  "attributes": {
                    "style": {
                      "height": "52px",
                      "display": "inline-block",
                      "width": "2px",
                      "borderTop": "2px solid black"
                    }
                  },
                  "children": null
                },
                {
                  "tagName": "div",
                  "attributes": {
                    "style": {
                      "height": "48px",
                      "display": "inline-block",
                      "width": "2px",
                      "borderTop": "2px solid black"
                    }
                  },
                  "children": null
                },
                {
                  "tagName": "div",
                  "attributes": {
                    "style": {
                      "height": "48px",
                      "display": "inline-block",
                      "width": "2px",
                      "borderTop": "2px solid black"
                    }
                  },
                  "children": null
                },
                {
                  "tagName": "div",
                  "attributes": {
                    "style": {
                      "height": "52px",
                      "display": "inline-block",
                      "width": "2px",
                      "borderTop": "2px solid black"
                    }
                  },
                  "children": null
                },
                {
                  "tagName": "div",
                  "attributes": {
                    "style": {
                      "height": "48px",
                      "display": "inline-block",
                      "width": "2px",
                      "borderTop": "2px solid black"
                    }
                  },
                  "children": null
                },
                {
                  "tagName": "div",
                  "attributes": {
                    "style": {
                      "height": "50px",
                      "display": "inline-block",
                      "width": "2px",
                      "borderTop": "2px solid black"
                    }
                  },
                  "children": null
                },
                {
                  "tagName": "div",
                  "attributes": {
                    "style": {
                      "height": "54px",
                      "display": "inline-block",
                      "width": "2px",
                      "borderTop": "2px solid black"
                    }
                  },
                  "children": null
                },
                {
                  "tagName": "div",
                  "attributes": {
                    "style": {
                      "height": "52px",
                      "display": "inline-block",
                      "width": "2px",
                      "borderTop": "2px solid black"
                    }
                  },
                  "children": null
                },
                {
                  "tagName": "div",
                  "attributes": {
                    "style": {
                      "height": "54px",
                      "display": "inline-block",
                      "width": "2px",
                      "borderTop": "2px solid black"
                    }
                  },
                  "children": null
                },
                {
                  "tagName": "div",
                  "attributes": {
                    "style": {
                      "height": "58px",
                      "display": "inline-block",
                      "width": "2px",
                      "borderTop": "2px solid black"
                    }
                  },
                  "children": null
                },
                {
                  "tagName": "div",
                  "attributes": {
                    "style": {
                      "height": "56px",
                      "display": "inline-block",
                      "width": "2px",
                      "borderTop": "2px solid black"
                    }
                  },
                  "children": null
                },
                {
                  "tagName": "div",
                  "attributes": {
                    "style": {
                      "height": "58px",
                      "display": "inline-block",
                      "width": "2px",
                      "borderTop": "2px solid black"
                    }
                  },
                  "children": null
                },
                {
                  "tagName": "div",
                  "attributes": {
                    "style": {
                      "height": "58px",
                      "display": "inline-block",
                      "width": "2px",
                      "borderTop": "2px solid black"
                    }
                  },
                  "children": null
                },
                {
                  "tagName": "div",
                  "attributes": {
                    "style": {
                      "height": "58px",
                      "display": "inline-block",
                      "width": "2px",
                      "borderTop": "2px solid black"
                    }
                  },
                  "children": null
                },
                {
                  "tagName": "div",
                  "attributes": {
                    "style": {
                      "height": "58px",
                      "display": "inline-block",
                      "width": "2px",
                      "borderTop": "2px solid black"
                    }
                  },
                  "children": null
                },
                {
                  "tagName": "div",
                  "attributes": {
                    "style": {
                      "height": "54px",
                      "display": "inline-block",
                      "width": "2px",
                      "borderTop": "2px solid black"
                    }
                  },
                  "children": null
                },
                {
                  "tagName": "div",
                  "attributes": {
                    "style": {
                      "height": "54px",
                      "display": "inline-block",
                      "width": "2px",
                      "borderTop": "2px solid black"
                    }
                  },
                  "children": null
                },
                {
                  "tagName": "div",
                  "attributes": {
                    "style": {
                      "height": "50px",
                      "display": "inline-block",
                      "width": "2px",
                      "borderTop": "2px solid black"
                    }
                  },
                  "children": null
                },
                {
                  "tagName": "div",
                  "attributes": {
                    "style": {
                      "height": "48px",
                      "display": "inline-block",
                      "width": "2px",
                      "borderTop": "2px solid black"
                    }
                  },
                  "children": null
                },
                {
                  "tagName": "div",
                  "attributes": {
                    "style": {
                      "height": "52px",
                      "display": "inline-block",
                      "width": "2px",
                      "borderTop": "2px solid black"
                    }
                  },
                  "children": null
                },
                {
                  "tagName": "div",
                  "attributes": {
                    "style": {
                      "height": "48px",
                      "display": "inline-block",
                      "width": "2px",
                      "borderTop": "2px solid black"
                    }
                  },
                  "children": null
                },
                {
                  "tagName": "div",
                  "attributes": {
                    "style": {
                      "height": "50px",
                      "display": "inline-block",
                      "width": "2px",
                      "borderTop": "2px solid black"
                    }
                  },
                  "children": null
                },
                {
                  "tagName": "div",
                  "attributes": {
                    "style": {
                      "height": "46px",
                      "display": "inline-block",
                      "width": "2px",
                      "borderTop": "2px solid black"
                    }
                  },
                  "children": null
                },
                {
                  "tagName": "div",
                  "attributes": {
                    "style": {
                      "height": "42px",
                      "display": "inline-block",
                      "width": "2px",
                      "borderTop": "2px solid black"
                    }
                  },
                  "children": null
                },
                {
                  "tagName": "div",
                  "attributes": {
                    "style": {
                      "height": "42px",
                      "display": "inline-block",
                      "width": "2px",
                      "borderTop": "2px solid black"
                    }
                  },
                  "children": null
                },
                {
                  "tagName": "div",
                  "attributes": {
                    "style": {
                      "height": "42px",
                      "display": "inline-block",
                      "width": "2px",
                      "borderTop": "2px solid black"
                    }
                  },
                  "children": null
                },
                {
                  "tagName": "div",
                  "attributes": {
                    "style": {
                      "height": "42px",
                      "display": "inline-block",
                      "width": "2px",
                      "borderTop": "2px solid black"
                    }
                  },
                  "children": null
                },
                {
                  "tagName": "div",
                  "attributes": {
                    "style": {
                      "height": "38px",
                      "display": "inline-block",
                      "width": "2px",
                      "borderTop": "2px solid black"
                    }
                  },
                  "children": null
                },
                {
                  "tagName": "div",
                  "attributes": {
                    "style": {
                      "height": "42px",
                      "display": "inline-block",
                      "width": "2px",
                      "borderTop": "2px solid black"
                    }
                  },
                  "children": null
                },
                {
                  "tagName": "div",
                  "attributes": {
                    "style": {
                      "height": "46px",
                      "display": "inline-block",
                      "width": "2px",
                      "borderTop": "2px solid black"
                    }
                  },
                  "children": null
                },
                {
                  "tagName": "div",
                  "attributes": {
                    "style": {
                      "height": "46px",
                      "display": "inline-block",
                      "width": "2px",
                      "borderTop": "2px solid black"
                    }
                  },
                  "children": null
                },
                {
                  "tagName": "div",
                  "attributes": {
                    "style": {
                      "height": "46px",
                      "display": "inline-block",
                      "width": "2px",
                      "borderTop": "2px solid black"
                    }
                  },
                  "children": null
                },
                {
                  "tagName": "div",
                  "attributes": {
                    "style": {
                      "height": "50px",
                      "display": "inline-block",
                      "width": "2px",
                      "borderTop": "2px solid black"
                    }
                  },
                  "children": null
                },
                {
                  "tagName": "div",
                  "attributes": {
                    "style": {
                      "height": "54px",
                      "display": "inline-block",
                      "width": "2px",
                      "borderTop": "2px solid black"
                    }
                  },
                  "children": null
                },
                {
                  "tagName": "div",
                  "attributes": {
                    "style": {
                      "height": "58px",
                      "display": "inline-block",
                      "width": "2px",
                      "borderTop": "2px solid black"
                    }
                  },
                  "children": null
                },
                {
                  "tagName": "div",
                  "attributes": {
                    "style": {
                      "height": "54px",
                      "display": "inline-block",
                      "width": "2px",
                      "borderTop": "2px solid black"
                    }
                  },
                  "children": null
                },
                {
                  "tagName": "div",
                  "attributes": {
                    "style": {
                      "height": "56px",
                      "display": "inline-block",
                      "width": "2px",
                      "borderTop": "2px solid black"
                    }
                  },
                  "children": null
                },
                {
                  "tagName": "div",
                  "attributes": {
                    "style": {
                      "height": "56px",
                      "display": "inline-block",
                      "width": "2px",
                      "borderTop": "2px solid black"
                    }
                  },
                  "children": null
                },
                {
                  "tagName": "div",
                  "attributes": {
                    "style": {
                      "height": "60px",
                      "display": "inline-block",
                      "width": "2px",
                      "borderTop": "2px solid black"
                    }
                  },
                  "children": null
                },
                {
                  "tagName": "div",
                  "attributes": {
                    "style": {
                      "height": "60px",
                      "display": "inline-block",
                      "width": "2px",
                      "borderTop": "2px solid black"
                    }
                  },
                  "children": null
                },
                {
                  "tagName": "div",
                  "attributes": {
                    "style": {
                      "height": "58px",
                      "display": "inline-block",
                      "width": "2px",
                      "borderTop": "2px solid black"
                    }
                  },
                  "children": null
                },
                {
                  "tagName": "div",
                  "attributes": {
                    "style": {
                      "height": "58px",
                      "display": "inline-block",
                      "width": "2px",
                      "borderTop": "2px solid black"
                    }
                  },
                  "children": null
                },
                {
                  "tagName": "div",
                  "attributes": {
                    "style": {
                      "height": "58px",
                      "display": "inline-block",
                      "width": "2px",
                      "borderTop": "2px solid black"
                    }
                  },
                  "children": null
                },
                {
                  "tagName": "div",
                  "attributes": {
                    "style": {
                      "height": "54px",
                      "display": "inline-block",
                      "width": "2px",
                      "borderTop": "2px solid black"
                    }
                  },
                  "children": null
                },
                {
                  "tagName": "div",
                  "attributes": {
                    "style": {
                      "height": "56px",
                      "display": "inline-block",
                      "width": "2px",
                      "borderTop": "2px solid black"
                    }
                  },
                  "children": null
                },
                {
                  "tagName": "div",
                  "attributes": {
                    "style": {
                      "height": "56px",
                      "display": "inline-block",
                      "width": "2px",
                      "borderTop": "2px solid black"
                    }
                  },
                  "children": null
                },
                {
                  "tagName": "div",
                  "attributes": {
                    "style": {
                      "height": "56px",
                      "display": "inline-block",
                      "width": "2px",
                      "borderTop": "2px solid black"
                    }
                  },
                  "children": null
                },
                {
                  "tagName": "div",
                  "attributes": {
                    "style": {
                      "height": "56px",
                      "display": "inline-block",
                      "width": "2px",
                      "borderTop": "2px solid black"
                    }
                  },
                  "children": null
                },
                {
                  "tagName": "div",
                  "attributes": {
                    "style": {
                      "height": "58px",
                      "display": "inline-block",
                      "width": "2px",
                      "borderTop": "2px solid black"
                    }
                  },
                  "children": null
                },
                {
                  "tagName": "div",
                  "attributes": {
                    "style": {
                      "height": "60px",
                      "display": "inline-block",
                      "width": "2px",
                      "borderTop": "2px solid black"
                    }
                  },
                  "children": null
                },
                {
                  "tagName": "div",
                  "attributes": {
                    "style": {
                      "height": "56px",
                      "display": "inline-block",
                      "width": "2px",
                      "borderTop": "2px solid black"
                    }
                  },
                  "children": null
                },
                {
                  "tagName": "div",
                  "attributes": {
                    "style": {
                      "height": "52px",
                      "display": "inline-block",
                      "width": "2px",
                      "borderTop": "2px solid black"
                    }
                  },
                  "children": null
                },
                {
                  "tagName": "div",
                  "attributes": {
                    "style": {
                      "height": "54px",
                      "display": "inline-block",
                      "width": "2px",
                      "borderTop": "2px solid black"
                    }
                  },
                  "children": null
                },
                {
                  "tagName": "div",
                  "attributes": {
                    "style": {
                      "height": "52px",
                      "display": "inline-block",
                      "width": "2px",
                      "borderTop": "2px solid black"
                    }
                  },
                  "children": null
                },
                {
                  "tagName": "div",
                  "attributes": {
                    "style": {
                      "height": "54px",
                      "display": "inline-block",
                      "width": "2px",
                      "borderTop": "2px solid black"
                    }
                  },
                  "children": null
                },
                {
                  "tagName": "div",
                  "attributes": {
                    "style": {
                      "height": "54px",
                      "display": "inline-block",
                      "width": "2px",
                      "borderTop": "2px solid black"
                    }
                  },
                  "children": null
                },
                {
                  "tagName": "div",
                  "attributes": {
                    "style": {
                      "height": "58px",
                      "display": "inline-block",
                      "width": "2px",
                      "borderTop": "2px solid black"
                    }
                  },
                  "children": null
                },
                {
                  "tagName": "div",
                  "attributes": {
                    "style": {
                      "height": "60px",
                      "display": "inline-block",
                      "width": "2px",
                      "borderTop": "2px solid black"
                    }
                  },
                  "children": null
                },
                {
                  "tagName": "div",
                  "attributes": {
                    "style": {
                      "height": "62px",
                      "display": "inline-block",
                      "width": "3px",
                      "borderTop": "3px solid red"
                    }
                  },
                  "children": null
                }
              ]
            },
            "text/plain": [
              "<div />"
            ]
          },
          "metadata": {}
        }
      ],
      "execution_count": 3,
      "metadata": {
        "collapsed": false,
        "outputHidden": false,
        "inputHidden": false
      }
    },
    {
      "cell_type": "code",
      "source": [
        "for ii in range(100):\n",
        "    time.sleep(20/1000.)\n",
        "    events.pop(0)\n",
        "    \n",
        "    event = max(min(events[-1] + random.randint(-2, 2), 50), 0)\n",
        "    events.append(event)    \n",
        "    handle.update(sparklines(events))"
      ],
      "outputs": [],
      "execution_count": 6,
      "metadata": {
        "collapsed": false,
        "outputHidden": false,
        "inputHidden": false
      }
    },
    {
      "cell_type": "code",
      "source": [
        "def generate_events(num=500, step=2):\n",
        "    events = [25]\n",
        "    for _ in range(num):\n",
        "        event = max(min(events[-1] + random.randint(-step, step), 50), 0)\n",
        "        events.append(event)\n",
        "    return events"
      ],
      "outputs": [],
      "execution_count": 7,
      "metadata": {
        "collapsed": false,
        "outputHidden": false,
        "inputHidden": false
      }
    },
    {
      "cell_type": "code",
      "source": [],
      "outputs": [],
      "execution_count": null,
      "metadata": {
        "collapsed": false,
        "outputHidden": false,
        "inputHidden": false
      }
    }
  ],
  "metadata": {
    "kernelspec": {
      "name": "python3",
      "language": "python",
      "display_name": "Python 3"
    },
    "kernel_info": {
      "name": "python3"
    },
    "language_info": {
      "name": "python",
      "version": "3.6.4",
      "mimetype": "text/x-python",
      "codemirror_mode": {
        "name": "ipython",
        "version": 3
      },
      "pygments_lexer": "ipython3",
      "nbconvert_exporter": "python",
      "file_extension": ".py"
    },
    "nteract": {
      "version": "0.7.1"
    }
  },
  "nbformat": 4,
  "nbformat_minor": 4
}