{
  "cells": [
    {
      "cell_type": "markdown",
      "source": [
        "# Creating a Sparklines Component for CPU and Memory Usage\n",
        "\n",
        "This notebook will walk you through:\n",
        "\n",
        "* Generating fake events\n",
        "* Creating sparklines with svg elements\n",
        "* Hooking your \"component\" up to your CPU and Memory usage"
      ],
      "metadata": {}
    },
    {
      "cell_type": "code",
      "source": [
        "from vdom import *\n",
        "from vdom.svg import *\n",
        "from functools import reduce"
      ],
      "outputs": [],
      "execution_count": null,
      "metadata": {
        "collapsed": false,
        "outputHidden": false,
        "inputHidden": false
      }
    },
    {
      "cell_type": "markdown",
      "source": [
        "Before we work with _real_ data, let's make a function that generates single-valued events. We'll pass it how many events we want and it will return an array of events."
      ],
      "metadata": {}
    },
    {
      "cell_type": "code",
      "source": [
        "def generate_events(length=30):\n",
        "    events = [25] # start our events off at 25\n",
        "    for x in range(length):\n",
        "        events.append(generate_next_event(events))\n",
        "    return events"
      ],
      "outputs": [],
      "execution_count": null,
      "metadata": {
        "collapsed": false,
        "outputHidden": false,
        "inputHidden": false
      }
    },
    {
      "cell_type": "code",
      "source": [
        "def generate_next_event(events):\n",
        "    # the next value in the event will be ±3 from the previous event,\n",
        "    # maxing out at 119 and at minimum 0\n",
        "    return min(max(events[-1] + random.randint(-3, 3), 0), 119)"
      ],
      "outputs": [],
      "execution_count": null,
      "metadata": {
        "collapsed": false,
        "outputHidden": false,
        "inputHidden": false
      }
    },
    {
      "cell_type": "markdown",
      "source": [
        "Let's see how it runs!"
      ],
      "metadata": {}
    },
    {
      "cell_type": "code",
      "source": [
        "generate_events(5) # Make 5 events"
      ],
      "outputs": [],
      "execution_count": null,
      "metadata": {
        "collapsed": false,
        "outputHidden": false,
        "inputHidden": false
      }
    },
    {
      "cell_type": "markdown",
      "source": [
        "Now it's time to make the view of these events.\n",
        "\nEach event will end up as a point on a [`<polyline />`](https://developer.mozilla.org/en-US/docs/Web/SVG/Element/polyline), which is a basic shape for connecting straight lines between many points. The most recent event will show up as a red [`<circle />`](https://developer.mozilla.org/en-US/docs/Web/SVG/Element/circle)."
      ],
      "metadata": {}
    },
    {
      "cell_type": "code",
      "source": [
        "import random\n",
        "import time\n",
        "\n",
        "def minichart(lines, title=\"\"):\n",
        "    # if lines is a 1D array, we'll assume an equidistant x array\n",
        "    height = 120\n",
        "    \n",
        "    xscale = 30\n",
        "\n",
        "    # With all the events, we'll scale them according to our height and \n",
        "    points = reduce(lambda s, coords: f\"{s}{coords[0]*xscale},{height - coords[1]} \", enumerate(lines), \"\")\n",
        "    \n",
        "    last_point = ((len(lines) - 1)*xscale, height - lines[-1])\n",
        "    \n",
        "    return svg(\n",
        "        polyline(fill=\"none\", stroke=\"black\", points=points),\n",
        "        circle(cx=str(last_point[0]), cy=str(last_point[1]), r=\"2\", fill=\"red\"),\n",
        "        text(title, x=\"0\", y=\"20\", fontWeight=\"600\", fontFamily=\"Verdana\"),\n",
        "        width=\"920\", height=\"120\", style={ 'borderTop': '1px solid #f7f7f7', 'paddingTop': '20px'}\n",
        "    )"
      ],
      "outputs": [],
      "execution_count": null,
      "metadata": {
        "collapsed": false,
        "outputHidden": false,
        "inputHidden": false
      }
    },
    {
      "cell_type": "markdown",
      "source": [
        "We've got our initial setup ready, let's see how that component fares."
      ],
      "metadata": {}
    },
    {
      "cell_type": "code",
      "source": [
        "events = generate_events()\n",
        "\nhandle = display(minichart(events), display_id=True)"
      ],
      "outputs": [],
      "execution_count": null,
      "metadata": {
        "collapsed": false,
        "outputHidden": false,
        "inputHidden": false
      }
    },
    {
      "cell_type": "markdown",
      "source": [
        "Neat. Let's now update it continuously."
      ],
      "metadata": {}
    },
    {
      "cell_type": "code",
      "source": [
        "for x in range(150):\n",
        "    time.sleep(30/1000.)\n",
        "    events.pop(0)\n",
        "    events.append(generate_next_event(events))\n",
        "    handle.update(minichart(events))"
      ],
      "outputs": [],
      "execution_count": null,
      "metadata": {
        "collapsed": false,
        "outputHidden": false,
        "inputHidden": false
      }
    },
    {
      "cell_type": "markdown",
      "source": [
        "## Monitoring system metrics"
      ],
      "metadata": {}
    },
    {
      "cell_type": "code",
      "source": [
        "# In case we don't have psutil, install it\n",
        "try:\n",
        "    import psutil\n",
        "except ImportError:\n",
        "    !python -m pip install psutil >/dev/null 2> /dev/null\n",
        "    import psutil\n",
        "\npsutil.cpu_percent()"
      ],
      "outputs": [],
      "execution_count": null,
      "metadata": {
        "collapsed": false,
        "outputHidden": false,
        "inputHidden": false
      }
    },
    {
      "cell_type": "code",
      "source": [
        "psutil.virtual_memory().percent"
      ],
      "outputs": [],
      "execution_count": null,
      "metadata": {
        "collapsed": false,
        "outputHidden": false,
        "inputHidden": false
      }
    },
    {
      "cell_type": "code",
      "source": [
        "cpu_percents = [psutil.cpu_percent()]\n",
        "vmem_percents = [psutil.virtual_memory().percent]"
      ],
      "outputs": [],
      "execution_count": null,
      "metadata": {
        "collapsed": false,
        "outputHidden": false,
        "inputHidden": false
      }
    },
    {
      "cell_type": "code",
      "source": [
        "def append_cpu_percent(events, max_length=30):\n",
        "    events.append(psutil.cpu_percent())\n",
        "    if(len(events) > max_length):\n",
        "        events.pop(0)\n",
        "    return events\n",
        "\n",
        "def append_virtual_memory_percent(events, max_length=30):\n",
        "    events.append(psutil.virtual_memory().percent)\n",
        "    if(len(events) > max_length):\n",
        "        events.pop(0)\n",
        "    return events"
      ],
      "outputs": [],
      "execution_count": null,
      "metadata": {
        "collapsed": false,
        "outputHidden": false,
        "inputHidden": false
      }
    },
    {
      "cell_type": "code",
      "source": [
        "def system_metrics(cpu_percents, vmem_percents):\n",
        "    return div(\n",
        "        minichart(cpu_percents, title=f\"CPU {cpu_percents[-1]}%\"),\n",
        "        br(), # lazy padding\n",
        "        minichart(vmem_percents, title=f\"Memory {vmem_percents[-1]}%\"),\n",
        "    )\n",
        "    \n",
        "\n",
        "sys_handle = display(system_metrics(cpu_percents, vmem_percents), display_id=True)\n",
        "\n",
        "for x in range(150):\n",
        "    time.sleep(100/1000.)\n",
        "    append_cpu_percent(cpu_percents)\n",
        "    append_virtual_memory_percent(vmem_percents)\n",
        "    \n",
        "    sys_handle.update(system_metrics(cpu_percents, vmem_percents))"
      ],
      "outputs": [],
      "execution_count": null,
      "metadata": {
        "collapsed": false,
        "outputHidden": false,
        "inputHidden": false
      }
    },
    {
      "cell_type": "code",
      "source": [],
      "outputs": [],
      "execution_count": null,
      "metadata": {
        "collapsed": false,
        "outputHidden": false,
        "inputHidden": false
      }
    }
  ],
  "metadata": {
    "kernelspec": {
      "name": "python3",
      "language": "python",
      "display_name": "Python 3"
    },
    "kernel_info": {
      "name": "python3"
    },
    "language_info": {
      "name": "python",
      "version": "3.6.3",
      "mimetype": "text/x-python",
      "codemirror_mode": {
        "name": "ipython",
        "version": 3
      },
      "pygments_lexer": "ipython3",
      "nbconvert_exporter": "python",
      "file_extension": ".py"
    },
    "nteract": {
      "version": "0.8.3"
    }
  },
  "nbformat": 4,
  "nbformat_minor": 4
}