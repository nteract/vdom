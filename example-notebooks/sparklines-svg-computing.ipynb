{
  "cells": [
    {
      "cell_type": "code",
      "source": [
        "from vdom import *\n",
        "from vdom.svg import *\n",
        "from functools import reduce"
      ],
      "outputs": [],
      "execution_count": 5,
      "metadata": {
        "collapsed": false,
        "outputHidden": false,
        "inputHidden": false
      }
    },
    {
      "cell_type": "code",
      "source": [
        "def generate_events(length=30):\n",
        "    events = [25]\n",
        "    for x in range(length):\n",
        "        events.append(generate_next_event(events))\n",
        "    return events"
      ],
      "outputs": [],
      "execution_count": 1,
      "metadata": {
        "collapsed": false,
        "outputHidden": false,
        "inputHidden": false
      }
    },
    {
      "cell_type": "code",
      "source": [
        "def generate_next_event(events):\n",
        "    return min(max(events[-1] + random.randint(-3, 3), 0), 119)"
      ],
      "outputs": [],
      "execution_count": 2,
      "metadata": {
        "collapsed": false,
        "outputHidden": false,
        "inputHidden": false
      }
    },
    {
      "cell_type": "code",
      "source": [
        "import random\n",
        "import time\n",
        "\n",
        "def minichart(lines, title=\"\"):\n",
        "    # if lines is a 1D array, we'll assume an equidistant x array\n",
        "    # TODO: Scale\n",
        "    height = 120\n",
        "    \n",
        "    xscale = 30\n",
        "\n",
        "    points = reduce(lambda s, coords: f\"{s}{coords[0]*xscale},{height - coords[1]} \", enumerate(lines), \"\")\n",
        "    \n",
        "    last_point = ((len(lines) - 1)*xscale, height - lines[-1])\n",
        "    \n",
        "    return svg(\n",
        "        polyline(fill=\"none\", stroke=\"black\", points=points),\n",
        "        circle(cx=str(last_point[0]), cy=str(last_point[1]), r=\"2\", fill=\"red\"),\n",
        "        text(title, x=\"0\", y=\"20\", fontWeight=\"600\", fontFamily=\"Verdana\"),\n",
        "        width=\"920\", height=\"120\", style={ 'borderTop': '1px solid #f7f7f7', 'paddingTop': '20px'}\n",
        "    )"
      ],
      "outputs": [],
      "execution_count": 6,
      "metadata": {
        "collapsed": false,
        "outputHidden": false,
        "inputHidden": false
      }
    },
    {
      "cell_type": "code",
      "source": [
        "events = generate_events()\n",
        "\nhandle = display(minichart(events), display_id=True)"
      ],
      "outputs": [
        {
          "output_type": "display_data",
          "data": {
            "application/vdom.v1+json": {
              "tagName": "svg",
              "attributes": {
                "width": "920",
                "height": "120",
                "style": {
                  "borderTop": "1px solid #f7f7f7",
                  "paddingTop": "20px"
                }
              },
              "children": [
                {
                  "tagName": "polyline",
                  "attributes": {
                    "fill": "none",
                    "stroke": "black",
                    "points": "0,85 30,88 60,88 90,91 120,91 150,92 180,93 210,95 240,97 270,100 300,99 330,102 360,105 390,102 420,99 450,99 480,99 510,101 540,98 570,96 600,98 630,101 660,101 690,99 720,96 750,95 780,98 810,96 840,94 870,97 900,100 "
                  },
                  "children": null
                },
                {
                  "tagName": "circle",
                  "attributes": {
                    "cx": "900",
                    "cy": "100",
                    "r": "2",
                    "fill": "red"
                  },
                  "children": null
                },
                {
                  "tagName": "text",
                  "attributes": {
                    "x": "0",
                    "y": "20",
                    "fontWeight": "600",
                    "fontFamily": "Verdana"
                  },
                  "children": ""
                }
              ]
            },
            "text/plain": [
              "<svg />"
            ]
          },
          "metadata": {}
        }
      ],
      "execution_count": 7,
      "metadata": {
        "collapsed": false,
        "outputHidden": false,
        "inputHidden": false
      }
    },
    {
      "cell_type": "code",
      "source": [
        "for x in range(300):\n",
        "    time.sleep(30/1000.)\n",
        "    events.pop(0)\n",
        "    events.append(generate_next_event(events))\n",
        "    handle.update(minichart(events))"
      ],
      "outputs": [],
      "execution_count": 8,
      "metadata": {
        "collapsed": false,
        "outputHidden": false,
        "inputHidden": false
      }
    },
    {
      "cell_type": "code",
      "source": [
        "import psutil\n",
        "psutil.cpu_percent()"
      ],
      "outputs": [
        {
          "output_type": "execute_result",
          "execution_count": 9,
          "data": {
            "text/plain": [
              "0.0"
            ]
          },
          "metadata": {}
        }
      ],
      "execution_count": 9,
      "metadata": {
        "collapsed": false,
        "outputHidden": false,
        "inputHidden": false
      }
    },
    {
      "cell_type": "code",
      "source": [
        "psutil.virtual_memory().percent"
      ],
      "outputs": [
        {
          "output_type": "execute_result",
          "execution_count": 10,
          "data": {
            "text/plain": [
              "86.2"
            ]
          },
          "metadata": {}
        }
      ],
      "execution_count": 10,
      "metadata": {
        "collapsed": false,
        "outputHidden": false,
        "inputHidden": false
      }
    },
    {
      "cell_type": "code",
      "source": [
        "cpu_percents = [psutil.cpu_percent()]\n",
        "vmem_percents = [psutil.virtual_memory().percent]"
      ],
      "outputs": [],
      "execution_count": 11,
      "metadata": {
        "collapsed": false,
        "outputHidden": false,
        "inputHidden": false
      }
    },
    {
      "cell_type": "code",
      "source": [
        "def append_cpu_percent(events, max_length=30):\n",
        "    events.append(psutil.cpu_percent())\n",
        "    if(len(events) > max_length):\n",
        "        events.pop(0)\n",
        "    return events\n",
        "\n",
        "def append_virtual_memory_percent(events, max_length=30):\n",
        "    events.append(psutil.virtual_memory().percent)\n",
        "    if(len(events) > max_length):\n",
        "        events.pop(0)\n",
        "    return events"
      ],
      "outputs": [],
      "execution_count": 12,
      "metadata": {
        "collapsed": false,
        "outputHidden": false,
        "inputHidden": false
      }
    },
    {
      "cell_type": "code",
      "source": [
        "def system_metrics(cpu_percents, vmem_percents):\n",
        "    return div(\n",
        "        minichart(cpu_percents, title=f\"CPU {cpu_percents[-1]}%\"),\n",
        "        br(), # lazy padding\n",
        "        minichart(vmem_percents, title=f\"Memory {vmem_percents[-1]}%\"),\n",
        "    )\n",
        "    \n",
        "\n",
        "sys_handle = display(system_metrics(cpu_percents, vmem_percents), display_id=True)\n",
        "\n",
        "for x in range(300):\n",
        "    time.sleep(100/1000.)\n",
        "    append_cpu_percent(cpu_percents)\n",
        "    append_virtual_memory_percent(vmem_percents)\n",
        "    \n",
        "    sys_handle.update(system_metrics(cpu_percents, vmem_percents))"
      ],
      "outputs": [
        {
          "output_type": "display_data",
          "data": {
            "application/vdom.v1+json": {
              "tagName": "div",
              "attributes": {},
              "children": [
                {
                  "tagName": "svg",
                  "attributes": {
                    "width": "920",
                    "height": "120",
                    "style": {
                      "borderTop": "1px solid #f7f7f7",
                      "paddingTop": "20px"
                    }
                  },
                  "children": [
                    {
                      "tagName": "polyline",
                      "attributes": {
                        "fill": "none",
                        "stroke": "black",
                        "points": "0,105.4 30,102.8 60,98.4 90,99.8 120,93.9 150,94.2 180,91.9 210,95.6 240,96.1 270,94.7 300,94.4 330,91.6 360,94.4 390,96.4 420,105.2 450,106.0 480,100.0 510,104.9 540,105.1 570,105.2 600,100.7 630,105.1 660,107.6 690,104.9 720,107.5 750,82.4 780,101.3 810,103.1 840,104.7 870,100.9 "
                      },
                      "children": null
                    },
                    {
                      "tagName": "circle",
                      "attributes": {
                        "cx": "870",
                        "cy": "100.9",
                        "r": "2",
                        "fill": "red"
                      },
                      "children": null
                    },
                    {
                      "tagName": "text",
                      "attributes": {
                        "x": "0",
                        "y": "20",
                        "fontWeight": "600",
                        "fontFamily": "Verdana"
                      },
                      "children": "CPU 19.1%"
                    }
                  ]
                },
                {
                  "tagName": "br",
                  "attributes": {},
                  "children": null
                },
                {
                  "tagName": "svg",
                  "attributes": {
                    "width": "920",
                    "height": "120",
                    "style": {
                      "borderTop": "1px solid #f7f7f7",
                      "paddingTop": "20px"
                    }
                  },
                  "children": [
                    {
                      "tagName": "polyline",
                      "attributes": {
                        "fill": "none",
                        "stroke": "black",
                        "points": "0,32.900000000000006 30,32.900000000000006 60,32.900000000000006 90,32.900000000000006 120,33.0 150,32.900000000000006 180,33.099999999999994 210,33.099999999999994 240,33.099999999999994 270,33.099999999999994 300,33.099999999999994 330,33.099999999999994 360,33.0 390,33.0 420,33.0 450,33.0 480,33.0 510,33.0 540,32.900000000000006 570,32.900000000000006 600,32.900000000000006 630,32.900000000000006 660,32.900000000000006 690,32.900000000000006 720,32.900000000000006 750,33.099999999999994 780,33.099999999999994 810,33.099999999999994 840,33.099999999999994 870,33.099999999999994 "
                      },
                      "children": null
                    },
                    {
                      "tagName": "circle",
                      "attributes": {
                        "cx": "870",
                        "cy": "33.099999999999994",
                        "r": "2",
                        "fill": "red"
                      },
                      "children": null
                    },
                    {
                      "tagName": "text",
                      "attributes": {
                        "x": "0",
                        "y": "20",
                        "fontWeight": "600",
                        "fontFamily": "Verdana"
                      },
                      "children": "Memory 86.9%"
                    }
                  ]
                }
              ]
            },
            "text/plain": [
              "<div />"
            ]
          },
          "metadata": {}
        }
      ],
      "execution_count": 13,
      "metadata": {
        "collapsed": false,
        "outputHidden": false,
        "inputHidden": false
      }
    },
    {
      "cell_type": "code",
      "source": [],
      "outputs": [],
      "execution_count": null,
      "metadata": {
        "collapsed": false,
        "outputHidden": false,
        "inputHidden": false
      }
    }
  ],
  "metadata": {
    "kernelspec": {
      "name": "python3",
      "language": "python",
      "display_name": "Python 3"
    },
    "kernel_info": {
      "name": "python3"
    },
    "language_info": {
      "name": "python",
      "version": "3.6.4",
      "mimetype": "text/x-python",
      "codemirror_mode": {
        "name": "ipython",
        "version": 3
      },
      "pygments_lexer": "ipython3",
      "nbconvert_exporter": "python",
      "file_extension": ".py"
    },
    "nteract": {
      "version": "0.7.1"
    }
  },
  "nbformat": 4,
  "nbformat_minor": 4
}